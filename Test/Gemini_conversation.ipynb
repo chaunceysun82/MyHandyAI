{
 "cells": [
  {
   "cell_type": "code",
   "execution_count": 2,
   "id": "4eaa9016",
   "metadata": {},
   "outputs": [
    {
     "data": {
      "text/plain": [
       "True"
      ]
     },
     "execution_count": 2,
     "metadata": {},
     "output_type": "execute_result"
    }
   ],
   "source": [
    "from langchain_google_genai import ChatGoogleGenerativeAI\n",
    "from langchain_core.output_parsers import StrOutputParser, PydanticOutputParser\n",
    "from langchain_core.prompts import PromptTemplate\n",
    "from langchain_core.messages import HumanMessage, AIMessage, SystemMessage\n",
    "import os\n",
    "from pydantic import BaseModel, Field\n",
    "from typing import List, Optional\n",
    "from langchain import LLMChain\n",
    "from langchain_community.tools.tavily_search import TavilySearchResults\n",
    "from dotenv import load_dotenv\n",
    "load_dotenv()"
   ]
  },
  {
   "cell_type": "code",
   "execution_count": 3,
   "id": "1a50d73d",
   "metadata": {},
   "outputs": [],
   "source": [
    "llm=ChatGoogleGenerativeAI(\n",
    "    model=\"gemini-2.5-pro\",\n",
    "    api_key=os.environ.get(\"GOOGLE_API_KEY\")\n",
    ")"
   ]
  },
  {
   "cell_type": "code",
   "execution_count": 4,
   "id": "770f09f7",
   "metadata": {},
   "outputs": [
    {
     "name": "stderr",
     "output_type": "stream",
     "text": [
      "C:\\Users\\suman\\AppData\\Local\\Temp\\ipykernel_19004\\3621979532.py:1: LangChainDeprecationWarning: The class `TavilySearchResults` was deprecated in LangChain 0.3.25 and will be removed in 1.0. An updated version of the class exists in the :class:`~langchain-tavily package and should be used instead. To use it run `pip install -U :class:`~langchain-tavily` and import as `from :class:`~langchain_tavily import TavilySearch``.\n",
      "  search=TavilySearchResults(api_key=os.environ.get(\"TAVILY_API_KEY\"))\n"
     ]
    }
   ],
   "source": [
    "search=TavilySearchResults(api_key=os.environ.get(\"TAVILY_API_KEY\"))"
   ]
  },
  {
   "cell_type": "code",
   "execution_count": 5,
   "id": "9d853f98",
   "metadata": {},
   "outputs": [],
   "source": [
    "def purchase_link(query: str) -> str:\n",
    "    \"\"\"\n",
    "    Function to get the purchase link for a tool or material.\n",
    "    \"\"\"\n",
    "    search_results = search.run(query+ \" buy online\")\n",
    "    if search_results:\n",
    "        return search_results[0].link\n",
    "    return \"No purchase link found.\""
   ]
  },
  {
   "cell_type": "code",
   "execution_count": 6,
   "id": "928dfb42",
   "metadata": {},
   "outputs": [],
   "source": [
    "messages=[\n",
    "    SystemMessage(content=\"You are a helpful home expert assistant who assists users with DIY home tasks like hanging wall mirrors, painting walls, installing shelves, etc.\"),\n",
    "    AIMessage(content=\"How can I assist you today?\")\n",
    "]"
   ]
  },
  {
   "cell_type": "code",
   "execution_count": 7,
   "id": "80c84d46",
   "metadata": {},
   "outputs": [],
   "source": [
    "main_query=\"I want to hang a wall mirror in my living room.\""
   ]
  },
  {
   "cell_type": "code",
   "execution_count": 8,
   "id": "cc04a502",
   "metadata": {},
   "outputs": [
    {
     "data": {
      "text/plain": [
       "[SystemMessage(content='You are a helpful home expert assistant who assists users with DIY home tasks like hanging wall mirrors, painting walls, installing shelves, etc.', additional_kwargs={}, response_metadata={}),\n",
       " AIMessage(content='How can I assist you today?', additional_kwargs={}, response_metadata={}),\n",
       " HumanMessage(content='I want to hang a wall mirror in my living room.', additional_kwargs={}, response_metadata={})]"
      ]
     },
     "execution_count": 8,
     "metadata": {},
     "output_type": "execute_result"
    }
   ],
   "source": [
    "messages.append(HumanMessage(content=main_query))\n",
    "messages"
   ]
  },
  {
   "cell_type": "code",
   "execution_count": 9,
   "id": "7f7c7545",
   "metadata": {},
   "outputs": [],
   "source": [
    "messages.append(AIMessage(content=\"What problems are you running into with hanging the wall mirror?\"))\n",
    "messages.append(HumanMessage(content=\"I'm trying to hang a wall mirror but I'm not sure how to do it properly.\"))\n",
    "messages.append(AIMessage(content=\"Describe it in more detail\"))\n",
    "messages.append(HumanMessage(content=\"I don't want to scratch the walls or break the glass. It has two hooks for attachments.\"))\n",
    "messages.append(AIMessage(content=\"Do you have experience hanging a mirror?\"))\n",
    "messages.append(HumanMessage(content=\"Yes, I have hang a small to medium-sized mirror before.\"))\n",
    "messages.append(AIMessage(content=\"Could you provide with a list of the tools and materials you have?\"))\n",
    "messages.append(HumanMessage(content=\"I have a hammer, nails, and a level.\"))"
   ]
  },
  {
   "cell_type": "code",
   "execution_count": 10,
   "id": "c98b6ca9",
   "metadata": {},
   "outputs": [
    {
     "data": {
      "text/plain": [
       "[SystemMessage(content='You are a helpful home expert assistant who assists users with DIY home tasks like hanging wall mirrors, painting walls, installing shelves, etc.', additional_kwargs={}, response_metadata={}),\n",
       " AIMessage(content='How can I assist you today?', additional_kwargs={}, response_metadata={}),\n",
       " HumanMessage(content='I want to hang a wall mirror in my living room.', additional_kwargs={}, response_metadata={}),\n",
       " AIMessage(content='What problems are you running into with hanging the wall mirror?', additional_kwargs={}, response_metadata={}),\n",
       " HumanMessage(content=\"I'm trying to hang a wall mirror but I'm not sure how to do it properly.\", additional_kwargs={}, response_metadata={}),\n",
       " AIMessage(content='Describe it in more detail', additional_kwargs={}, response_metadata={}),\n",
       " HumanMessage(content=\"I don't want to scratch the walls or break the glass. It has two hooks for attachments.\", additional_kwargs={}, response_metadata={}),\n",
       " AIMessage(content='Do you have experience hanging a mirror?', additional_kwargs={}, response_metadata={}),\n",
       " HumanMessage(content='Yes, I have hang a small to medium-sized mirror before.', additional_kwargs={}, response_metadata={}),\n",
       " AIMessage(content='Could you provide with a list of the tools and materials you have?', additional_kwargs={}, response_metadata={}),\n",
       " HumanMessage(content='I have a hammer, nails, and a level.', additional_kwargs={}, response_metadata={})]"
      ]
     },
     "execution_count": 10,
     "metadata": {},
     "output_type": "execute_result"
    }
   ],
   "source": [
    "messages"
   ]
  },
  {
   "cell_type": "code",
   "execution_count": 11,
   "id": "40f958e9",
   "metadata": {},
   "outputs": [],
   "source": [
    "class Question(BaseModel):\n",
    "    id: int\n",
    "    text: str\n",
    "    options: Optional[List[str]] = None\n"
   ]
  },
  {
   "cell_type": "code",
   "execution_count": 12,
   "id": "c354cfe4",
   "metadata": {},
   "outputs": [],
   "source": [
    "class QuestionsOutput(BaseModel):\n",
    "    questions: List[Question]"
   ]
  },
  {
   "cell_type": "code",
   "execution_count": 13,
   "id": "a755ae56",
   "metadata": {},
   "outputs": [],
   "source": [
    "parser = PydanticOutputParser(pydantic_object=QuestionsOutput)"
   ]
  },
  {
   "cell_type": "code",
   "execution_count": 14,
   "id": "450d1263",
   "metadata": {},
   "outputs": [],
   "source": [
    "template='''You are a helpful home expert assistant who assists users with DIY home tasks like hanging wall mirrors, painting walls, installing shelves, etc.\n",
    "    You are given a previous conversation with the user. Your task is to generate as many questions that will help you understand the user's problem and the user objective better other than the provided ones.\n",
    "    The questions should be concise and relevant to the user's task provided with options wherever possible. Only ask relevant questions and do not describe the task or provide any information. Just try to understand the user's problem better.\n",
    "    Later there would be a missing tools and materials segment. So if there are any questions related to the tools and materials user has, you can ask them as well.\n",
    "    But dont ask about any missing tools and materials.\n",
    "    \\n\\n\\n\n",
    "    Previous conversation:\\n{chat_history}\n",
    "    \\n\\n\\n\n",
    "    {format_instructions}\n",
    "    '''"
   ]
  },
  {
   "cell_type": "code",
   "execution_count": 15,
   "id": "498a135e",
   "metadata": {},
   "outputs": [],
   "source": [
    "question_prompts= PromptTemplate(\n",
    "    template=template,\n",
    "    input_variables=[\"chat_history\"],\n",
    "    partial_variables={\"format_instructions\": parser.get_format_instructions()}\n",
    ")"
   ]
  },
  {
   "cell_type": "code",
   "execution_count": 16,
   "id": "c1e20ed3",
   "metadata": {},
   "outputs": [
    {
     "name": "stderr",
     "output_type": "stream",
     "text": [
      "C:\\Users\\suman\\AppData\\Local\\Temp\\ipykernel_19004\\2987848949.py:1: LangChainDeprecationWarning: The class `LLMChain` was deprecated in LangChain 0.1.17 and will be removed in 1.0. Use :meth:`~RunnableSequence, e.g., `prompt | llm`` instead.\n",
      "  chain=LLMChain(\n",
      "C:\\Users\\suman\\AppData\\Local\\Temp\\ipykernel_19004\\2987848949.py:7: LangChainDeprecationWarning: The method `Chain.run` was deprecated in langchain 0.1.0 and will be removed in 1.0. Use :meth:`~invoke` instead.\n",
      "  result=chain.run({\"chat_history\": chat_history})\n"
     ]
    }
   ],
   "source": [
    "chain=LLMChain(\n",
    "    llm=llm,\n",
    "    prompt=question_prompts,\n",
    ")\n",
    "chat_history=messages\n",
    "\n",
    "result=chain.run({\"chat_history\": chat_history})\n",
    "output=parser.parse(result)\n",
    "questions=output.questions"
   ]
  },
  {
   "cell_type": "code",
   "execution_count": 17,
   "id": "b17bb6b3",
   "metadata": {},
   "outputs": [
    {
     "data": {
      "text/plain": [
       "[Question(id=1, text='What type of wall are you hanging the mirror on?', options=['Drywall', 'Plaster', 'Brick / Concrete', \"I'm not sure\"]),\n",
       " Question(id=2, text='What is the approximate weight of the mirror?', options=['Light (under 10 lbs / 5 kg)', 'Medium (10-25 lbs / 5-11 kg)', 'Heavy (over 25 lbs / 11 kg)']),\n",
       " Question(id=3, text='What are the approximate dimensions (width and height) of the mirror?', options=None),\n",
       " Question(id=4, text='Are the two hooks on the back connected by a wire?', options=['Yes, there is a wire between them', 'No, they are separate hooks (e.g., D-rings)']),\n",
       " Question(id=5, text='Do you have a tape measure?', options=['Yes', 'No']),\n",
       " Question(id=6, text='Do you have a stud finder to locate the support beams in the wall?', options=['Yes', 'No']),\n",
       " Question(id=7, text=\"Is the mirror's frame made of a heavy material like wood or metal?\", options=[\"Yes, it's a heavy frame\", \"No, it's a light frame (e.g., plastic) or it's frameless\"])]"
      ]
     },
     "execution_count": 17,
     "metadata": {},
     "output_type": "execute_result"
    }
   ],
   "source": [
    "questions"
   ]
  },
  {
   "cell_type": "code",
   "execution_count": 18,
   "id": "2288d63f",
   "metadata": {},
   "outputs": [
    {
     "data": {
      "text/plain": [
       "7"
      ]
     },
     "execution_count": 18,
     "metadata": {},
     "output_type": "execute_result"
    }
   ],
   "source": [
    "len(questions)"
   ]
  },
  {
   "cell_type": "code",
   "execution_count": 19,
   "id": "ab4644d1",
   "metadata": {},
   "outputs": [
    {
     "name": "stdout",
     "output_type": "stream",
     "text": [
      "Q1: What type of wall are you hanging the mirror on?\n",
      "Options:\n",
      "Drywall\n",
      "Plaster\n",
      "Brick / Concrete\n",
      "I'm not sure\n",
      "\n",
      "Q2: What is the approximate weight of the mirror?\n",
      "Options:\n",
      "Light (under 10 lbs / 5 kg)\n",
      "Medium (10-25 lbs / 5-11 kg)\n",
      "Heavy (over 25 lbs / 11 kg)\n",
      "\n",
      "Q3: What are the approximate dimensions (width and height) of the mirror?\n",
      "Q4: Are the two hooks on the back connected by a wire?\n",
      "Options:\n",
      "Yes, there is a wire between them\n",
      "No, they are separate hooks (e.g., D-rings)\n",
      "\n",
      "Q5: Do you have a tape measure?\n",
      "Options:\n",
      "Yes\n",
      "No\n",
      "\n",
      "Q6: Do you have a stud finder to locate the support beams in the wall?\n",
      "Options:\n",
      "Yes\n",
      "No\n",
      "\n",
      "Q7: Is the mirror's frame made of a heavy material like wood or metal?\n",
      "Options:\n",
      "Yes, it's a heavy frame\n",
      "No, it's a light frame (e.g., plastic) or it's frameless\n",
      "\n"
     ]
    }
   ],
   "source": [
    "messages.append(AIMessage(content=\"Here are some questions to help me understand your task better:\"))\n",
    "for q in questions:\n",
    "    if q.options:\n",
    "        options=\"\"\n",
    "        for q_option in q.options:\n",
    "            options += f\"{q_option}\\n\"\n",
    "        messages.append(AIMessage(content=f\"Q{q.id}: {q.text}\\nOptions:\\n{options}\"))\n",
    "    else:\n",
    "        messages.append(AIMessage(content=f\"Q{q.id}: {q.text}\"))\n",
    "\n",
    "    print(messages[-1].content)\n",
    "    user_query=input(\"Your response: \")\n",
    "    messages.append(HumanMessage(content=user_query))"
   ]
  },
  {
   "cell_type": "code",
   "execution_count": 20,
   "id": "2c73efed",
   "metadata": {},
   "outputs": [
    {
     "data": {
      "text/plain": [
       "[SystemMessage(content='You are a helpful home expert assistant who assists users with DIY home tasks like hanging wall mirrors, painting walls, installing shelves, etc.', additional_kwargs={}, response_metadata={}),\n",
       " AIMessage(content='How can I assist you today?', additional_kwargs={}, response_metadata={}),\n",
       " HumanMessage(content='I want to hang a wall mirror in my living room.', additional_kwargs={}, response_metadata={}),\n",
       " AIMessage(content='What problems are you running into with hanging the wall mirror?', additional_kwargs={}, response_metadata={}),\n",
       " HumanMessage(content=\"I'm trying to hang a wall mirror but I'm not sure how to do it properly.\", additional_kwargs={}, response_metadata={}),\n",
       " AIMessage(content='Describe it in more detail', additional_kwargs={}, response_metadata={}),\n",
       " HumanMessage(content=\"I don't want to scratch the walls or break the glass. It has two hooks for attachments.\", additional_kwargs={}, response_metadata={}),\n",
       " AIMessage(content='Do you have experience hanging a mirror?', additional_kwargs={}, response_metadata={}),\n",
       " HumanMessage(content='Yes, I have hang a small to medium-sized mirror before.', additional_kwargs={}, response_metadata={}),\n",
       " AIMessage(content='Could you provide with a list of the tools and materials you have?', additional_kwargs={}, response_metadata={}),\n",
       " HumanMessage(content='I have a hammer, nails, and a level.', additional_kwargs={}, response_metadata={}),\n",
       " AIMessage(content='Here are some questions to help me understand your task better:', additional_kwargs={}, response_metadata={}),\n",
       " AIMessage(content=\"Q1: What type of wall are you hanging the mirror on?\\nOptions:\\nDrywall\\nPlaster\\nBrick / Concrete\\nI'm not sure\\n\", additional_kwargs={}, response_metadata={}),\n",
       " HumanMessage(content='Drywall', additional_kwargs={}, response_metadata={}),\n",
       " AIMessage(content='Q2: What is the approximate weight of the mirror?\\nOptions:\\nLight (under 10 lbs / 5 kg)\\nMedium (10-25 lbs / 5-11 kg)\\nHeavy (over 25 lbs / 11 kg)\\n', additional_kwargs={}, response_metadata={}),\n",
       " HumanMessage(content='Heavy (over 25 lbs / 11 kg)', additional_kwargs={}, response_metadata={}),\n",
       " AIMessage(content='Q3: What are the approximate dimensions (width and height) of the mirror?', additional_kwargs={}, response_metadata={}),\n",
       " HumanMessage(content='Height : 75 cm and Width : 50cm', additional_kwargs={}, response_metadata={}),\n",
       " AIMessage(content='Q4: Are the two hooks on the back connected by a wire?\\nOptions:\\nYes, there is a wire between them\\nNo, they are separate hooks (e.g., D-rings)\\n', additional_kwargs={}, response_metadata={}),\n",
       " HumanMessage(content='Yes, there is a wire between them', additional_kwargs={}, response_metadata={}),\n",
       " AIMessage(content='Q5: Do you have a tape measure?\\nOptions:\\nYes\\nNo\\n', additional_kwargs={}, response_metadata={}),\n",
       " HumanMessage(content='Yes', additional_kwargs={}, response_metadata={}),\n",
       " AIMessage(content='Q6: Do you have a stud finder to locate the support beams in the wall?\\nOptions:\\nYes\\nNo\\n', additional_kwargs={}, response_metadata={}),\n",
       " HumanMessage(content='No', additional_kwargs={}, response_metadata={}),\n",
       " AIMessage(content=\"Q7: Is the mirror's frame made of a heavy material like wood or metal?\\nOptions:\\nYes, it's a heavy frame\\nNo, it's a light frame (e.g., plastic) or it's frameless\\n\", additional_kwargs={}, response_metadata={}),\n",
       " HumanMessage(content=\"Yes, it's a heavy frame\", additional_kwargs={}, response_metadata={})]"
      ]
     },
     "execution_count": 20,
     "metadata": {},
     "output_type": "execute_result"
    }
   ],
   "source": [
    "messages"
   ]
  },
  {
   "cell_type": "code",
   "execution_count": 21,
   "id": "63e944b1",
   "metadata": {},
   "outputs": [],
   "source": [
    "class ToolsRequired(BaseModel):\n",
    "    tool_name: str=Field(description=\"Name of the missing tools required for the task\")\n",
    "    description: str=Field(description=\"Short Description of the missing tools required for the task\")\n",
    "    "
   ]
  },
  {
   "cell_type": "code",
   "execution_count": 22,
   "id": "70608fcc",
   "metadata": {},
   "outputs": [],
   "source": [
    "class ToolsOutput(BaseModel):\n",
    "    tools: List[ToolsRequired]"
   ]
  },
  {
   "cell_type": "code",
   "execution_count": 23,
   "id": "bb075bff",
   "metadata": {},
   "outputs": [],
   "source": [
    "tools_parser=PydanticOutputParser(pydantic_object=ToolsOutput)"
   ]
  },
  {
   "cell_type": "code",
   "execution_count": 24,
   "id": "43dee264",
   "metadata": {},
   "outputs": [],
   "source": [
    "tools_prompt=PromptTemplate(\n",
    "    template='''You are a helpful tools and materials expert assistant who suggests the tools and materials required for a particular task.\n",
    "    Based on the conversation, you will need to suggest the tools and materials required for the task.\n",
    "    \n",
    "    Also analyze the user experience, the tools and materials they have and all the details of the tasks provided in the conversation.\n",
    "    Using these informations, suggest the most basic to advanced tools and materials required for the task.\n",
    "    \\n\\n\\n\n",
    "    Previous conversation:\\n{chat_history}\n",
    "    \\n\\n\\n\n",
    "    {format_instructions}''',\n",
    "    input_variables=[\"chat_history\"],\n",
    "    partial_variables={\"format_instructions\": tools_parser.get_format_instructions()}\n",
    ")"
   ]
  },
  {
   "cell_type": "code",
   "execution_count": 25,
   "id": "708beed8",
   "metadata": {},
   "outputs": [],
   "source": [
    "tools_llm=ChatGoogleGenerativeAI(\n",
    "    model=\"gemini-2.5-flash\",\n",
    "    api_key=os.environ.get(\"GOOGLE_API_KEY\")\n",
    ")"
   ]
  },
  {
   "cell_type": "code",
   "execution_count": 26,
   "id": "baf5839b",
   "metadata": {},
   "outputs": [],
   "source": [
    "chain=tools_prompt | tools_llm | tools_parser"
   ]
  },
  {
   "cell_type": "code",
   "execution_count": 27,
   "id": "bea591c5",
   "metadata": {},
   "outputs": [],
   "source": [
    "tools_suggestion=chain.invoke({\"chat_history\": messages})"
   ]
  },
  {
   "cell_type": "code",
   "execution_count": 30,
   "id": "013558cd",
   "metadata": {},
   "outputs": [
    {
     "name": "stdout",
     "output_type": "stream",
     "text": [
      "Tool name : Stud Finder\n",
      "Tool description : Essential for locating wooden studs behind your drywall. Hanging a heavy mirror (over 25 lbs) directly into a stud provides the most secure attachment point, significantly reducing the risk of the mirror falling and damaging the wall or breaking.\n",
      "Link Title: Zircon: Stud Finders - Amazon.com\n",
      "URL: https://www.amazon.com/stores/Zircon/page/1A422F09-114D-4A08-80F7-D9B5DA29FC83\n",
      "Tool name : Power Drill\n",
      "Tool description : Required for drilling pilot holes if you locate a stud, or for installing heavy-duty drywall anchors (such as toggle bolts or molly bolts) if a stud is not available at your desired hanging location. Nails alone are not sufficient for a heavy mirror on drywall.\n",
      "Link Title: Power Drill Cordless - Amazon.com\n",
      "URL: https://www.amazon.com/Power-Drills-Cordless-Tools/s?keywords=Power+Drills&rh=n%3A552794%2Cp_n_feature_four_browse-bin%3A9060577011&c=ts&ts_id=552794\n",
      "Tool name : Drill Bit Set\n",
      "Tool description : A set of various drill bits will ensure you have the correct size for pilot holes (if drilling into a stud) or for the specific heavy-duty drywall anchors you will need to use. The size will depend on the chosen anchor/screw.\n",
      "Link Title: Drill Bit Set - Amazon.com\n",
      "URL: https://www.amazon.com/drill-bit-set/s?k=drill+bit+set\n",
      "Tool name : Pencil\n",
      "Tool description : For accurately marking the desired height and width for your mirror's hanging point on the wall before drilling, ensuring precise placement.\n",
      "Link Title: Pencil - Amazon.com\n",
      "URL: https://www.amazon.com/pencil/s?k=pencil\n",
      "Tool name : Painter's Tape\n",
      "Tool description : Helpful for marking your measurements on the wall without leaving permanent marks, and can also be used to temporarily mark the mirror's hanging points to transfer measurements to the wall, especially useful for one-person installation.\n",
      "Link Title: Painters Tape - Amazon.com\n",
      "URL: https://www.amazon.com/painters-tape/s?k=painters+tape\n",
      "Tool name : Safety Glasses\n",
      "Tool description : Recommended for eye protection when drilling into walls, as dust and small debris can be generated during the process.\n",
      "Link Title: Safety Glasses - Amazon.com\n",
      "URL: https://www.amazon.com/safety-glasses/s?k=safety+glasses\n",
      "Tool name : Work Gloves\n",
      "Tool description : Provides a better grip when handling the heavy mirror and protects your hands from potential splinters from the mirror frame or minor abrasions during installation.\n",
      "Link Title: 12 Pack - SHOWA Atlas 370 Black Work Gloves - Large - Amazon.com\n",
      "URL: https://www.amazon.com/12-Pack-Showa-Atlas-Gloves/dp/B0012NVRS8\n"
     ]
    }
   ],
   "source": [
    "messages.append(AIMessage(content=\"Here are the tools and materials required for your task:\"))\n",
    "for items in tools_suggestion.tools:\n",
    "    search_query=\"Can you provide me the purchase link of the \"+ items.tool_name+\" from Amazon?\"\n",
    "    results=search.invoke(search_query)\n",
    "    if len(results):\n",
    "        print(f\"Tool name : {items.tool_name}\\nTool description : {items.description}\\nLink Title: {results[0].get('title')}\\nURL: {results[0].get('url')}\")"
   ]
  },
  {
   "cell_type": "code",
   "execution_count": 35,
   "id": "3d49110b",
   "metadata": {},
   "outputs": [],
   "source": [
    "for items in tools_suggestion.tools:\n",
    "    messages.append(AIMessage(content=f\"Tool Name: {items.tool_name}\\nDescription: {items.description}\"))"
   ]
  },
  {
   "cell_type": "code",
   "execution_count": 36,
   "id": "e60de52a",
   "metadata": {},
   "outputs": [
    {
     "data": {
      "text/plain": [
       "[SystemMessage(content='You are a helpful home expert assistant who assists users with DIY home tasks like hanging wall mirrors, painting walls, installing shelves, etc.', additional_kwargs={}, response_metadata={}),\n",
       " AIMessage(content='How can I assist you today?', additional_kwargs={}, response_metadata={}),\n",
       " HumanMessage(content='I want to hang a wall mirror in my living room.', additional_kwargs={}, response_metadata={}),\n",
       " AIMessage(content='What problems are you running into with hanging the wall mirror?', additional_kwargs={}, response_metadata={}),\n",
       " HumanMessage(content=\"I'm trying to hang a wall mirror but I'm not sure how to do it properly.\", additional_kwargs={}, response_metadata={}),\n",
       " AIMessage(content='Describe it in more detail', additional_kwargs={}, response_metadata={}),\n",
       " HumanMessage(content=\"I don't want to scratch the walls or break the glass. It has two hooks for attachments.\", additional_kwargs={}, response_metadata={}),\n",
       " AIMessage(content='Do you have experience hanging a mirror?', additional_kwargs={}, response_metadata={}),\n",
       " HumanMessage(content='Yes, I have hang a small to medium-sized mirror before.', additional_kwargs={}, response_metadata={}),\n",
       " AIMessage(content='Could you provide with a list of the tools and materials you have?', additional_kwargs={}, response_metadata={}),\n",
       " HumanMessage(content='I have a hammer, nails, and a level.', additional_kwargs={}, response_metadata={}),\n",
       " AIMessage(content='Here are some questions to help me understand your task better:', additional_kwargs={}, response_metadata={}),\n",
       " AIMessage(content=\"Q1: What type of wall are you hanging the mirror on?\\nOptions:\\nDrywall\\nPlaster\\nBrick / Concrete\\nI'm not sure\\n\", additional_kwargs={}, response_metadata={}),\n",
       " HumanMessage(content='Drywall', additional_kwargs={}, response_metadata={}),\n",
       " AIMessage(content='Q2: What is the approximate weight of the mirror?\\nOptions:\\nLight (under 10 lbs / 5 kg)\\nMedium (10-25 lbs / 5-11 kg)\\nHeavy (over 25 lbs / 11 kg)\\n', additional_kwargs={}, response_metadata={}),\n",
       " HumanMessage(content='Heavy (over 25 lbs / 11 kg)', additional_kwargs={}, response_metadata={}),\n",
       " AIMessage(content='Q3: What are the approximate dimensions (width and height) of the mirror?', additional_kwargs={}, response_metadata={}),\n",
       " HumanMessage(content='Height : 75 cm and Width : 50cm', additional_kwargs={}, response_metadata={}),\n",
       " AIMessage(content='Q4: Are the two hooks on the back connected by a wire?\\nOptions:\\nYes, there is a wire between them\\nNo, they are separate hooks (e.g., D-rings)\\n', additional_kwargs={}, response_metadata={}),\n",
       " HumanMessage(content='Yes, there is a wire between them', additional_kwargs={}, response_metadata={}),\n",
       " AIMessage(content='Q5: Do you have a tape measure?\\nOptions:\\nYes\\nNo\\n', additional_kwargs={}, response_metadata={}),\n",
       " HumanMessage(content='Yes', additional_kwargs={}, response_metadata={}),\n",
       " AIMessage(content='Q6: Do you have a stud finder to locate the support beams in the wall?\\nOptions:\\nYes\\nNo\\n', additional_kwargs={}, response_metadata={}),\n",
       " HumanMessage(content='No', additional_kwargs={}, response_metadata={}),\n",
       " AIMessage(content=\"Q7: Is the mirror's frame made of a heavy material like wood or metal?\\nOptions:\\nYes, it's a heavy frame\\nNo, it's a light frame (e.g., plastic) or it's frameless\\n\", additional_kwargs={}, response_metadata={}),\n",
       " HumanMessage(content=\"Yes, it's a heavy frame\", additional_kwargs={}, response_metadata={}),\n",
       " AIMessage(content='Here are the tools and materials required for your task:', additional_kwargs={}, response_metadata={}),\n",
       " AIMessage(content='Tool Name: Stud Finder\\nDescription: Essential for locating wooden studs behind your drywall. Hanging a heavy mirror (over 25 lbs) directly into a stud provides the most secure attachment point, significantly reducing the risk of the mirror falling and damaging the wall or breaking.', additional_kwargs={}, response_metadata={}),\n",
       " AIMessage(content='Tool Name: Power Drill\\nDescription: Required for drilling pilot holes if you locate a stud, or for installing heavy-duty drywall anchors (such as toggle bolts or molly bolts) if a stud is not available at your desired hanging location. Nails alone are not sufficient for a heavy mirror on drywall.', additional_kwargs={}, response_metadata={}),\n",
       " AIMessage(content='Tool Name: Drill Bit Set\\nDescription: A set of various drill bits will ensure you have the correct size for pilot holes (if drilling into a stud) or for the specific heavy-duty drywall anchors you will need to use. The size will depend on the chosen anchor/screw.', additional_kwargs={}, response_metadata={}),\n",
       " AIMessage(content=\"Tool Name: Pencil\\nDescription: For accurately marking the desired height and width for your mirror's hanging point on the wall before drilling, ensuring precise placement.\", additional_kwargs={}, response_metadata={}),\n",
       " AIMessage(content=\"Tool Name: Painter's Tape\\nDescription: Helpful for marking your measurements on the wall without leaving permanent marks, and can also be used to temporarily mark the mirror's hanging points to transfer measurements to the wall, especially useful for one-person installation.\", additional_kwargs={}, response_metadata={}),\n",
       " AIMessage(content='Tool Name: Safety Glasses\\nDescription: Recommended for eye protection when drilling into walls, as dust and small debris can be generated during the process.', additional_kwargs={}, response_metadata={}),\n",
       " AIMessage(content='Tool Name: Work Gloves\\nDescription: Provides a better grip when handling the heavy mirror and protects your hands from potential splinters from the mirror frame or minor abrasions during installation.', additional_kwargs={}, response_metadata={})]"
      ]
     },
     "execution_count": 36,
     "metadata": {},
     "output_type": "execute_result"
    }
   ],
   "source": [
    "messages"
   ]
  },
  {
   "cell_type": "code",
   "execution_count": 37,
   "id": "db334d02",
   "metadata": {},
   "outputs": [],
   "source": [
    "class StepsRequired(BaseModel):\n",
    "    step_id: int=Field(description=\"Step number for the task\")\n",
    "    step: str=Field(description=\"Step by step to-dos to complete the task\")\n",
    "    description: str=Field(description=\"Description of the step required to complete the task\")\n",
    "    risk_factors: str=Field(description=\"Risk factors involved in the step to complete the task\")\n",
    "    safety_measures: str=Field(description=\"Safety measures to take while performing the step to complete the task\")"
   ]
  },
  {
   "cell_type": "code",
   "execution_count": 38,
   "id": "dcf707df",
   "metadata": {},
   "outputs": [],
   "source": [
    "class StepsOutput(BaseModel):\n",
    "    steps: List[StepsRequired]"
   ]
  },
  {
   "cell_type": "code",
   "execution_count": 39,
   "id": "82aee52b",
   "metadata": {},
   "outputs": [],
   "source": [
    "steps_parser=PydanticOutputParser(pydantic_object=StepsOutput)"
   ]
  },
  {
   "cell_type": "code",
   "execution_count": 40,
   "id": "d4676d38",
   "metadata": {},
   "outputs": [],
   "source": [
    "steps_prompt=PromptTemplate(\n",
    "    template='''You are a helpful expert assistant for DIY tasks who suggests the step by step to-dos to complete the task.\n",
    "    Based on the conversation, you will need to suggest the step by step approaches along with their description (how to use the tools for the task) and safety measures.\n",
    "    Analyze the whole conversation and suggest the steps required to complete the task in an easy and simple way.\\n\\n\\n\n",
    "    Previous conversation:\\n{chat_history}\n",
    "    \\n\\n\\n\n",
    "    {format_instructions}''',\n",
    "    input_variables=[\"chat_history\"],\n",
    "    partial_variables={\"format_instructions\": steps_parser.get_format_instructions()}\n",
    ")"
   ]
  },
  {
   "cell_type": "code",
   "execution_count": 41,
   "id": "2f10a20d",
   "metadata": {},
   "outputs": [],
   "source": [
    "steps_chain=steps_prompt | llm | steps_parser"
   ]
  },
  {
   "cell_type": "code",
   "execution_count": 42,
   "id": "5e34c9ec",
   "metadata": {},
   "outputs": [
    {
     "name": "stdout",
     "output_type": "stream",
     "text": [
      "steps=[StepsRequired(step_id=1, step='Plan and Measure Your Placement', description=\"First, decide on the perfect spot for your mirror. A general guideline is to hang it so the center is at eye level, which is typically about 60 inches (152 cm) from the floor. Have a helper hold the mirror against the wall to visualize the final position. Once you're happy with the placement, use your tape measure and a pencil to make a light, small mark on the wall indicating the top center of the mirror frame.\", risk_factors='Incorrect placement can result in an off-center or poorly positioned mirror, requiring you to patch holes and start over. Permanent marks can damage the wall paint.', safety_measures='Use a pencil for marks, as they are easily erased. Confirm the placement with a helper before marking. Measure twice to ensure accuracy.'), StepsRequired(step_id=2, step='Locate the Wall Studs', description='Since your mirror is heavy, hanging it on wall studs is the safest option. Turn on your stud finder and calibrate it against the wall according to its instructions. Slide it horizontally across the wall at the height where your hanging hooks will be. Mark the left and right edges of each stud you locate. Studs are typically 16 or 24 inches apart.', risk_factors='Failing to locate studs or misidentifying their location can lead to installing hardware into hollow drywall, which will not support a heavy mirror, causing it to fall.', safety_measures=\"Read the stud finder's manual for proper use. Scan the wall multiple times to confirm stud locations. A common verification method is to tap the wall; a hollow sound indicates drywall, while a solid, dull thud indicates a stud.\"), StepsRequired(step_id=3, step='Mark the Drilling Points', description='On the back of the mirror, pull the hanging wire up and tight, as if it were hanging. Use your tape measure to find the distance from the top of the mirror frame down to the peak of the taut wire. Now, go back to the wall and measure down this exact distance from the top-center mark you made in Step 1. This is your vertical hanging height. For stability with a heavy mirror, you will use two hooks. From your new vertical mark, measure outwards to the left and right to your marked stud locations (or about 6-8 inches apart if no studs are ideally placed). Use your level to ensure these two final drilling points are perfectly horizontal.', risk_factors='Inaccurate measurements will result in a crooked mirror. If the two hook points are not level, the mirror will hang at an angle.', safety_measures='Double-check all your measurements. Use your level to draw a faint, straight line between the two hook points to guarantee they are perfectly aligned before you drill.'), StepsRequired(step_id=4, step='Drill Holes and Install Hardware', description=\"Put on your safety glasses. If your marks are on studs, use a power drill with a bit slightly smaller than your screw's diameter to drill a pilot hole. Then, screw in a heavy-duty picture hook or screw rated for over 50 lbs, leaving it protruding about 1/4 inch. If you cannot use studs, you MUST use heavy-duty drywall anchors like toggle bolts. Drill a hole that matches the anchor's size requirements, insert the folded anchor, and tighten the screw until the anchor is secure against the back of the drywall, again leaving it out 1/4 inch.\", risk_factors='Drilling into unseen electrical wires or plumbing. Using the wrong hardware can lead to mirror failure. Wall damage from incorrect drilling.', safety_measures=\"Always wear safety glasses when drilling. Be aware of nearby outlets or light switches, as wiring may be present. Never use nails or standard plastic anchors for a heavy mirror. Ensure the anchors or screws are rated for at least double the mirror's weight.\"), StepsRequired(step_id=5, step='Hang the Mirror with a Helper', description='This step requires two people. Put on your work gloves for a better grip. With your helper, each person should hold one side of the mirror. Lift it carefully, keeping your back straight and lifting with your legs. Tilt the top of the mirror towards the wall and carefully guide the hanging wire onto the two hooks you installed. Communicate with your helper to lower it slowly and evenly until you feel the wire is securely caught on both hooks.', risk_factors='Dropping and breaking the mirror. Personal injury from lifting a heavy, awkward object. Scratching the wall or floor during placement.', safety_measures='Never attempt to hang a heavy mirror alone. Wear work gloves to protect your hands and improve grip. Plan your path from the floor to the wall to avoid tripping hazards.'), StepsRequired(step_id=6, step='Level, Secure, and Clean Up', description=\"Once the mirror is on the wall, place your level on the top edge to check if it's straight. If it's slightly off, gently shift the mirror side-to-side on the hooks until it's perfect. Gently press on the mirror's frame to ensure it is stable and does not wobble. Finally, use a cloth to wipe any fingerprints off the mirror and vacuum any dust created by drilling.\", risk_factors='The mirror may not be fully secure on the hooks and could fall later. Leaving the mirror crooked.', safety_measures=\"Perform a gentle 'wobble test' to confirm the mirror is securely seated on the hooks. If it moves easily, take it down and inspect the hardware. Make only small, careful adjustments when leveling.\")]\n"
     ]
    }
   ],
   "source": [
    "steps=steps_chain.invoke({\"chat_history\": messages})\n",
    "print(steps)"
   ]
  },
  {
   "cell_type": "code",
   "execution_count": 44,
   "id": "770bdf86",
   "metadata": {},
   "outputs": [
    {
     "name": "stdout",
     "output_type": "stream",
     "text": [
      "Step 1:Plan and Measure Your Placement\n",
      "Description: First, decide on the perfect spot for your mirror. A general guideline is to hang it so the center is at eye level, which is typically about 60 inches (152 cm) from the floor. Have a helper hold the mirror against the wall to visualize the final position. Once you're happy with the placement, use your tape measure and a pencil to make a light, small mark on the wall indicating the top center of the mirror frame.\n",
      "Risk Factors: Incorrect placement can result in an off-center or poorly positioned mirror, requiring you to patch holes and start over. Permanent marks can damage the wall paint.\n",
      "Safety Measures: Use a pencil for marks, as they are easily erased. Confirm the placement with a helper before marking. Measure twice to ensure accuracy.\n",
      "\n",
      "Step 2:Locate the Wall Studs\n",
      "Description: Since your mirror is heavy, hanging it on wall studs is the safest option. Turn on your stud finder and calibrate it against the wall according to its instructions. Slide it horizontally across the wall at the height where your hanging hooks will be. Mark the left and right edges of each stud you locate. Studs are typically 16 or 24 inches apart.\n",
      "Risk Factors: Failing to locate studs or misidentifying their location can lead to installing hardware into hollow drywall, which will not support a heavy mirror, causing it to fall.\n",
      "Safety Measures: Read the stud finder's manual for proper use. Scan the wall multiple times to confirm stud locations. A common verification method is to tap the wall; a hollow sound indicates drywall, while a solid, dull thud indicates a stud.\n",
      "\n",
      "Step 3:Mark the Drilling Points\n",
      "Description: On the back of the mirror, pull the hanging wire up and tight, as if it were hanging. Use your tape measure to find the distance from the top of the mirror frame down to the peak of the taut wire. Now, go back to the wall and measure down this exact distance from the top-center mark you made in Step 1. This is your vertical hanging height. For stability with a heavy mirror, you will use two hooks. From your new vertical mark, measure outwards to the left and right to your marked stud locations (or about 6-8 inches apart if no studs are ideally placed). Use your level to ensure these two final drilling points are perfectly horizontal.\n",
      "Risk Factors: Inaccurate measurements will result in a crooked mirror. If the two hook points are not level, the mirror will hang at an angle.\n",
      "Safety Measures: Double-check all your measurements. Use your level to draw a faint, straight line between the two hook points to guarantee they are perfectly aligned before you drill.\n",
      "\n",
      "Step 4:Drill Holes and Install Hardware\n",
      "Description: Put on your safety glasses. If your marks are on studs, use a power drill with a bit slightly smaller than your screw's diameter to drill a pilot hole. Then, screw in a heavy-duty picture hook or screw rated for over 50 lbs, leaving it protruding about 1/4 inch. If you cannot use studs, you MUST use heavy-duty drywall anchors like toggle bolts. Drill a hole that matches the anchor's size requirements, insert the folded anchor, and tighten the screw until the anchor is secure against the back of the drywall, again leaving it out 1/4 inch.\n",
      "Risk Factors: Drilling into unseen electrical wires or plumbing. Using the wrong hardware can lead to mirror failure. Wall damage from incorrect drilling.\n",
      "Safety Measures: Always wear safety glasses when drilling. Be aware of nearby outlets or light switches, as wiring may be present. Never use nails or standard plastic anchors for a heavy mirror. Ensure the anchors or screws are rated for at least double the mirror's weight.\n",
      "\n",
      "Step 5:Hang the Mirror with a Helper\n",
      "Description: This step requires two people. Put on your work gloves for a better grip. With your helper, each person should hold one side of the mirror. Lift it carefully, keeping your back straight and lifting with your legs. Tilt the top of the mirror towards the wall and carefully guide the hanging wire onto the two hooks you installed. Communicate with your helper to lower it slowly and evenly until you feel the wire is securely caught on both hooks.\n",
      "Risk Factors: Dropping and breaking the mirror. Personal injury from lifting a heavy, awkward object. Scratching the wall or floor during placement.\n",
      "Safety Measures: Never attempt to hang a heavy mirror alone. Wear work gloves to protect your hands and improve grip. Plan your path from the floor to the wall to avoid tripping hazards.\n",
      "\n",
      "Step 6:Level, Secure, and Clean Up\n",
      "Description: Once the mirror is on the wall, place your level on the top edge to check if it's straight. If it's slightly off, gently shift the mirror side-to-side on the hooks until it's perfect. Gently press on the mirror's frame to ensure it is stable and does not wobble. Finally, use a cloth to wipe any fingerprints off the mirror and vacuum any dust created by drilling.\n",
      "Risk Factors: The mirror may not be fully secure on the hooks and could fall later. Leaving the mirror crooked.\n",
      "Safety Measures: Perform a gentle 'wobble test' to confirm the mirror is securely seated on the hooks. If it moves easily, take it down and inspect the hardware. Make only small, careful adjustments when leveling.\n",
      "\n"
     ]
    }
   ],
   "source": [
    "for step in steps.steps:\n",
    "    print(f\"Step {step.step_id}:{step.step}\\nDescription: {step.description}\\nRisk Factors: {step.risk_factors}\\nSafety Measures: {step.safety_measures}\\n\")"
   ]
  },
  {
   "cell_type": "code",
   "execution_count": 46,
   "id": "1c2cab7b",
   "metadata": {},
   "outputs": [],
   "source": [
    "messages.append(HumanMessage(content=\"Provide me the step by step approaches to complete the task along with their description and safety measures.\"))\n",
    "messages.append(AIMessage(content=\"Here are the step by step approaches to complete your task along with their description and safety measures:\"))"
   ]
  },
  {
   "cell_type": "code",
   "execution_count": 47,
   "id": "d35105b8",
   "metadata": {},
   "outputs": [],
   "source": [
    "for step in steps.steps:\n",
    "    messages.append(AIMessage(content=f\"Step {step.step_id}:{step.step}\\nDescription: {step.description}\\nRisk Factors: {step.risk_factors}\\nSafety Measures: {step.safety_measures}\\n\"))\n",
    "    break\n"
   ]
  },
  {
   "cell_type": "code",
   "execution_count": 48,
   "id": "2cb709a9",
   "metadata": {},
   "outputs": [
    {
     "data": {
      "text/plain": [
       "[SystemMessage(content='You are a helpful home expert assistant who assists users with DIY home tasks like hanging wall mirrors, painting walls, installing shelves, etc.', additional_kwargs={}, response_metadata={}),\n",
       " AIMessage(content='How can I assist you today?', additional_kwargs={}, response_metadata={}),\n",
       " HumanMessage(content='I want to hang a wall mirror in my living room.', additional_kwargs={}, response_metadata={}),\n",
       " AIMessage(content='What problems are you running into with hanging the wall mirror?', additional_kwargs={}, response_metadata={}),\n",
       " HumanMessage(content=\"I'm trying to hang a wall mirror but I'm not sure how to do it properly.\", additional_kwargs={}, response_metadata={}),\n",
       " AIMessage(content='Describe it in more detail', additional_kwargs={}, response_metadata={}),\n",
       " HumanMessage(content=\"I don't want to scratch the walls or break the glass. It has two hooks for attachments.\", additional_kwargs={}, response_metadata={}),\n",
       " AIMessage(content='Do you have experience hanging a mirror?', additional_kwargs={}, response_metadata={}),\n",
       " HumanMessage(content='Yes, I have hang a small to medium-sized mirror before.', additional_kwargs={}, response_metadata={}),\n",
       " AIMessage(content='Could you provide with a list of the tools and materials you have?', additional_kwargs={}, response_metadata={}),\n",
       " HumanMessage(content='I have a hammer, nails, and a level.', additional_kwargs={}, response_metadata={}),\n",
       " AIMessage(content='Here are some questions to help me understand your task better:', additional_kwargs={}, response_metadata={}),\n",
       " AIMessage(content=\"Q1: What type of wall are you hanging the mirror on?\\nOptions:\\nDrywall\\nPlaster\\nBrick / Concrete\\nI'm not sure\\n\", additional_kwargs={}, response_metadata={}),\n",
       " HumanMessage(content='Drywall', additional_kwargs={}, response_metadata={}),\n",
       " AIMessage(content='Q2: What is the approximate weight of the mirror?\\nOptions:\\nLight (under 10 lbs / 5 kg)\\nMedium (10-25 lbs / 5-11 kg)\\nHeavy (over 25 lbs / 11 kg)\\n', additional_kwargs={}, response_metadata={}),\n",
       " HumanMessage(content='Heavy (over 25 lbs / 11 kg)', additional_kwargs={}, response_metadata={}),\n",
       " AIMessage(content='Q3: What are the approximate dimensions (width and height) of the mirror?', additional_kwargs={}, response_metadata={}),\n",
       " HumanMessage(content='Height : 75 cm and Width : 50cm', additional_kwargs={}, response_metadata={}),\n",
       " AIMessage(content='Q4: Are the two hooks on the back connected by a wire?\\nOptions:\\nYes, there is a wire between them\\nNo, they are separate hooks (e.g., D-rings)\\n', additional_kwargs={}, response_metadata={}),\n",
       " HumanMessage(content='Yes, there is a wire between them', additional_kwargs={}, response_metadata={}),\n",
       " AIMessage(content='Q5: Do you have a tape measure?\\nOptions:\\nYes\\nNo\\n', additional_kwargs={}, response_metadata={}),\n",
       " HumanMessage(content='Yes', additional_kwargs={}, response_metadata={}),\n",
       " AIMessage(content='Q6: Do you have a stud finder to locate the support beams in the wall?\\nOptions:\\nYes\\nNo\\n', additional_kwargs={}, response_metadata={}),\n",
       " HumanMessage(content='No', additional_kwargs={}, response_metadata={}),\n",
       " AIMessage(content=\"Q7: Is the mirror's frame made of a heavy material like wood or metal?\\nOptions:\\nYes, it's a heavy frame\\nNo, it's a light frame (e.g., plastic) or it's frameless\\n\", additional_kwargs={}, response_metadata={}),\n",
       " HumanMessage(content=\"Yes, it's a heavy frame\", additional_kwargs={}, response_metadata={}),\n",
       " AIMessage(content='Here are the tools and materials required for your task:', additional_kwargs={}, response_metadata={}),\n",
       " AIMessage(content='Tool Name: Stud Finder\\nDescription: Essential for locating wooden studs behind your drywall. Hanging a heavy mirror (over 25 lbs) directly into a stud provides the most secure attachment point, significantly reducing the risk of the mirror falling and damaging the wall or breaking.', additional_kwargs={}, response_metadata={}),\n",
       " AIMessage(content='Tool Name: Power Drill\\nDescription: Required for drilling pilot holes if you locate a stud, or for installing heavy-duty drywall anchors (such as toggle bolts or molly bolts) if a stud is not available at your desired hanging location. Nails alone are not sufficient for a heavy mirror on drywall.', additional_kwargs={}, response_metadata={}),\n",
       " AIMessage(content='Tool Name: Drill Bit Set\\nDescription: A set of various drill bits will ensure you have the correct size for pilot holes (if drilling into a stud) or for the specific heavy-duty drywall anchors you will need to use. The size will depend on the chosen anchor/screw.', additional_kwargs={}, response_metadata={}),\n",
       " AIMessage(content=\"Tool Name: Pencil\\nDescription: For accurately marking the desired height and width for your mirror's hanging point on the wall before drilling, ensuring precise placement.\", additional_kwargs={}, response_metadata={}),\n",
       " AIMessage(content=\"Tool Name: Painter's Tape\\nDescription: Helpful for marking your measurements on the wall without leaving permanent marks, and can also be used to temporarily mark the mirror's hanging points to transfer measurements to the wall, especially useful for one-person installation.\", additional_kwargs={}, response_metadata={}),\n",
       " AIMessage(content='Tool Name: Safety Glasses\\nDescription: Recommended for eye protection when drilling into walls, as dust and small debris can be generated during the process.', additional_kwargs={}, response_metadata={}),\n",
       " AIMessage(content='Tool Name: Work Gloves\\nDescription: Provides a better grip when handling the heavy mirror and protects your hands from potential splinters from the mirror frame or minor abrasions during installation.', additional_kwargs={}, response_metadata={}),\n",
       " HumanMessage(content='Provide me the step by step approaches to complete the task along with their description and safety measures.', additional_kwargs={}, response_metadata={}),\n",
       " AIMessage(content='Here are the step by step approaches to complete your task along with their description and safety measures:', additional_kwargs={}, response_metadata={}),\n",
       " AIMessage(content=\"Step 1:Plan and Measure Your Placement\\nDescription: First, decide on the perfect spot for your mirror. A general guideline is to hang it so the center is at eye level, which is typically about 60 inches (152 cm) from the floor. Have a helper hold the mirror against the wall to visualize the final position. Once you're happy with the placement, use your tape measure and a pencil to make a light, small mark on the wall indicating the top center of the mirror frame.\\nRisk Factors: Incorrect placement can result in an off-center or poorly positioned mirror, requiring you to patch holes and start over. Permanent marks can damage the wall paint.\\nSafety Measures: Use a pencil for marks, as they are easily erased. Confirm the placement with a helper before marking. Measure twice to ensure accuracy.\\n\", additional_kwargs={}, response_metadata={})]"
      ]
     },
     "execution_count": 48,
     "metadata": {},
     "output_type": "execute_result"
    }
   ],
   "source": [
    "messages"
   ]
  },
  {
   "cell_type": "code",
   "execution_count": 50,
   "id": "7c3608e0",
   "metadata": {},
   "outputs": [],
   "source": [
    "chat_template=PromptTemplate(\n",
    "    template='''You are a helpful home expert assistant who assists users with DIY home tasks like hanging wall mirrors, painting walls, installing shelves, etc.\n",
    "    You are given a previous conversation with the user. Your task is to generate a concise and relevant response to the user's query to solve their doubts or suggests any alternates as per user query.\n",
    "    Like a chatbot, make the user confident that you are here to help them with their task and provide them with the best possible solution.\n",
    "    Dont jump to next steps and just focus on solving the doubts of the current query.\n",
    "    \\n\\n\\n\n",
    "    Previous conversation:\\n{chat_history}\n",
    "    \\n\\n\\n\n",
    "    Doubts and queries:\\n{query}\\n''',\n",
    "    input_variables=[\"chat_history\", \"query\"],\n",
    ")"
   ]
  },
  {
   "cell_type": "code",
   "execution_count": 51,
   "id": "b3ba3d59",
   "metadata": {},
   "outputs": [],
   "source": [
    "chat_parser=StrOutputParser()"
   ]
  },
  {
   "cell_type": "code",
   "execution_count": 52,
   "id": "404b6d73",
   "metadata": {},
   "outputs": [],
   "source": [
    "chat_llm=ChatGoogleGenerativeAI(\n",
    "    model=\"gemini-2.5-flash\",\n",
    "    api_key=os.environ.get(\"GOOGLE_API_KEY\")\n",
    ")"
   ]
  },
  {
   "cell_type": "code",
   "execution_count": 53,
   "id": "d8efbac7",
   "metadata": {},
   "outputs": [],
   "source": [
    "chat_chain=chat_template | chat_llm | chat_parser\n",
    "resp=chat_chain.invoke({\"chat_history\": messages, \"query\": \"I dont have anyone to hold the mirror while I am hanging it. What should I do?\"})"
   ]
  },
  {
   "cell_type": "code",
   "execution_count": 54,
   "id": "85890a85",
   "metadata": {},
   "outputs": [
    {
     "name": "stdout",
     "output_type": "stream",
     "text": [
      "No worries at all! You can definitely plan and measure your mirror's placement even without a helper.\n",
      "\n",
      "Instead of having someone hold the mirror, you can use your **painter's tape** to outline the mirror's dimensions on the wall. Here's how:\n",
      "\n",
      "1.  **Measure the mirror's total height and width** with your tape measure.\n",
      "2.  **Use your painter's tape to create an outline of the mirror on the wall** at your desired height and width. This will give you a visual representation of the mirror's footprint.\n",
      "3.  **Step back and assess** if this placement looks good in the room. You can easily adjust the tape until you're happy with the position.\n",
      "4.  Once satisfied, you can then make your light pencil mark for the top center of the mirror frame within this tape outline.\n",
      "\n",
      "This method allows you to visualize and confirm the perfect spot for your mirror independently, ensuring precise placement without any risk to your walls or the mirror itself. I'm here to guide you through each step to make sure your mirror hanging is a success!\n"
     ]
    }
   ],
   "source": [
    "print(resp)"
   ]
  },
  {
   "cell_type": "code",
   "execution_count": 55,
   "id": "252cb5c8",
   "metadata": {},
   "outputs": [],
   "source": [
    "messages.append(HumanMessage(content=\"I dont have anyone to hold the mirror while I am hanging it. What should I do?\"))\n",
    "messages.append(AIMessage(content=resp))"
   ]
  },
  {
   "cell_type": "code",
   "execution_count": 56,
   "id": "11619bc1",
   "metadata": {},
   "outputs": [
    {
     "data": {
      "text/plain": [
       "[SystemMessage(content='You are a helpful home expert assistant who assists users with DIY home tasks like hanging wall mirrors, painting walls, installing shelves, etc.', additional_kwargs={}, response_metadata={}),\n",
       " AIMessage(content='How can I assist you today?', additional_kwargs={}, response_metadata={}),\n",
       " HumanMessage(content='I want to hang a wall mirror in my living room.', additional_kwargs={}, response_metadata={}),\n",
       " AIMessage(content='What problems are you running into with hanging the wall mirror?', additional_kwargs={}, response_metadata={}),\n",
       " HumanMessage(content=\"I'm trying to hang a wall mirror but I'm not sure how to do it properly.\", additional_kwargs={}, response_metadata={}),\n",
       " AIMessage(content='Describe it in more detail', additional_kwargs={}, response_metadata={}),\n",
       " HumanMessage(content=\"I don't want to scratch the walls or break the glass. It has two hooks for attachments.\", additional_kwargs={}, response_metadata={}),\n",
       " AIMessage(content='Do you have experience hanging a mirror?', additional_kwargs={}, response_metadata={}),\n",
       " HumanMessage(content='Yes, I have hang a small to medium-sized mirror before.', additional_kwargs={}, response_metadata={}),\n",
       " AIMessage(content='Could you provide with a list of the tools and materials you have?', additional_kwargs={}, response_metadata={}),\n",
       " HumanMessage(content='I have a hammer, nails, and a level.', additional_kwargs={}, response_metadata={}),\n",
       " AIMessage(content='Here are some questions to help me understand your task better:', additional_kwargs={}, response_metadata={}),\n",
       " AIMessage(content=\"Q1: What type of wall are you hanging the mirror on?\\nOptions:\\nDrywall\\nPlaster\\nBrick / Concrete\\nI'm not sure\\n\", additional_kwargs={}, response_metadata={}),\n",
       " HumanMessage(content='Drywall', additional_kwargs={}, response_metadata={}),\n",
       " AIMessage(content='Q2: What is the approximate weight of the mirror?\\nOptions:\\nLight (under 10 lbs / 5 kg)\\nMedium (10-25 lbs / 5-11 kg)\\nHeavy (over 25 lbs / 11 kg)\\n', additional_kwargs={}, response_metadata={}),\n",
       " HumanMessage(content='Heavy (over 25 lbs / 11 kg)', additional_kwargs={}, response_metadata={}),\n",
       " AIMessage(content='Q3: What are the approximate dimensions (width and height) of the mirror?', additional_kwargs={}, response_metadata={}),\n",
       " HumanMessage(content='Height : 75 cm and Width : 50cm', additional_kwargs={}, response_metadata={}),\n",
       " AIMessage(content='Q4: Are the two hooks on the back connected by a wire?\\nOptions:\\nYes, there is a wire between them\\nNo, they are separate hooks (e.g., D-rings)\\n', additional_kwargs={}, response_metadata={}),\n",
       " HumanMessage(content='Yes, there is a wire between them', additional_kwargs={}, response_metadata={}),\n",
       " AIMessage(content='Q5: Do you have a tape measure?\\nOptions:\\nYes\\nNo\\n', additional_kwargs={}, response_metadata={}),\n",
       " HumanMessage(content='Yes', additional_kwargs={}, response_metadata={}),\n",
       " AIMessage(content='Q6: Do you have a stud finder to locate the support beams in the wall?\\nOptions:\\nYes\\nNo\\n', additional_kwargs={}, response_metadata={}),\n",
       " HumanMessage(content='No', additional_kwargs={}, response_metadata={}),\n",
       " AIMessage(content=\"Q7: Is the mirror's frame made of a heavy material like wood or metal?\\nOptions:\\nYes, it's a heavy frame\\nNo, it's a light frame (e.g., plastic) or it's frameless\\n\", additional_kwargs={}, response_metadata={}),\n",
       " HumanMessage(content=\"Yes, it's a heavy frame\", additional_kwargs={}, response_metadata={}),\n",
       " AIMessage(content='Here are the tools and materials required for your task:', additional_kwargs={}, response_metadata={}),\n",
       " AIMessage(content='Tool Name: Stud Finder\\nDescription: Essential for locating wooden studs behind your drywall. Hanging a heavy mirror (over 25 lbs) directly into a stud provides the most secure attachment point, significantly reducing the risk of the mirror falling and damaging the wall or breaking.', additional_kwargs={}, response_metadata={}),\n",
       " AIMessage(content='Tool Name: Power Drill\\nDescription: Required for drilling pilot holes if you locate a stud, or for installing heavy-duty drywall anchors (such as toggle bolts or molly bolts) if a stud is not available at your desired hanging location. Nails alone are not sufficient for a heavy mirror on drywall.', additional_kwargs={}, response_metadata={}),\n",
       " AIMessage(content='Tool Name: Drill Bit Set\\nDescription: A set of various drill bits will ensure you have the correct size for pilot holes (if drilling into a stud) or for the specific heavy-duty drywall anchors you will need to use. The size will depend on the chosen anchor/screw.', additional_kwargs={}, response_metadata={}),\n",
       " AIMessage(content=\"Tool Name: Pencil\\nDescription: For accurately marking the desired height and width for your mirror's hanging point on the wall before drilling, ensuring precise placement.\", additional_kwargs={}, response_metadata={}),\n",
       " AIMessage(content=\"Tool Name: Painter's Tape\\nDescription: Helpful for marking your measurements on the wall without leaving permanent marks, and can also be used to temporarily mark the mirror's hanging points to transfer measurements to the wall, especially useful for one-person installation.\", additional_kwargs={}, response_metadata={}),\n",
       " AIMessage(content='Tool Name: Safety Glasses\\nDescription: Recommended for eye protection when drilling into walls, as dust and small debris can be generated during the process.', additional_kwargs={}, response_metadata={}),\n",
       " AIMessage(content='Tool Name: Work Gloves\\nDescription: Provides a better grip when handling the heavy mirror and protects your hands from potential splinters from the mirror frame or minor abrasions during installation.', additional_kwargs={}, response_metadata={}),\n",
       " HumanMessage(content='Provide me the step by step approaches to complete the task along with their description and safety measures.', additional_kwargs={}, response_metadata={}),\n",
       " AIMessage(content='Here are the step by step approaches to complete your task along with their description and safety measures:', additional_kwargs={}, response_metadata={}),\n",
       " AIMessage(content=\"Step 1:Plan and Measure Your Placement\\nDescription: First, decide on the perfect spot for your mirror. A general guideline is to hang it so the center is at eye level, which is typically about 60 inches (152 cm) from the floor. Have a helper hold the mirror against the wall to visualize the final position. Once you're happy with the placement, use your tape measure and a pencil to make a light, small mark on the wall indicating the top center of the mirror frame.\\nRisk Factors: Incorrect placement can result in an off-center or poorly positioned mirror, requiring you to patch holes and start over. Permanent marks can damage the wall paint.\\nSafety Measures: Use a pencil for marks, as they are easily erased. Confirm the placement with a helper before marking. Measure twice to ensure accuracy.\\n\", additional_kwargs={}, response_metadata={}),\n",
       " HumanMessage(content='I dont have anyone to hold the mirror while I am hanging it. What should I do?', additional_kwargs={}, response_metadata={}),\n",
       " AIMessage(content=\"No worries at all! You can definitely plan and measure your mirror's placement even without a helper.\\n\\nInstead of having someone hold the mirror, you can use your **painter's tape** to outline the mirror's dimensions on the wall. Here's how:\\n\\n1.  **Measure the mirror's total height and width** with your tape measure.\\n2.  **Use your painter's tape to create an outline of the mirror on the wall** at your desired height and width. This will give you a visual representation of the mirror's footprint.\\n3.  **Step back and assess** if this placement looks good in the room. You can easily adjust the tape until you're happy with the position.\\n4.  Once satisfied, you can then make your light pencil mark for the top center of the mirror frame within this tape outline.\\n\\nThis method allows you to visualize and confirm the perfect spot for your mirror independently, ensuring precise placement without any risk to your walls or the mirror itself. I'm here to guide you through each step to make sure your mirror hanging is a success!\", additional_kwargs={}, response_metadata={})]"
      ]
     },
     "execution_count": 56,
     "metadata": {},
     "output_type": "execute_result"
    }
   ],
   "source": [
    "messages"
   ]
  },
  {
   "cell_type": "code",
   "execution_count": 57,
   "id": "a40aaa1f",
   "metadata": {},
   "outputs": [],
   "source": [
    "messages.append(HumanMessage(content=\"Its great and everything is perfect.\"))"
   ]
  },
  {
   "cell_type": "code",
   "execution_count": 86,
   "id": "dad7a951",
   "metadata": {},
   "outputs": [
    {
     "name": "stdout",
     "output_type": "stream",
     "text": [
      "1\n",
      "2\n",
      "3\n",
      "4\n",
      "5\n",
      "6\n"
     ]
    }
   ],
   "source": [
    "for step in steps.steps:\n",
    "    print(step.step_id)\n",
    "    if step.step_id == 6:\n",
    "        messages.append(AIMessage(content=f\"Step {step.step_id}:{step.step}\\nDescription: {step.description}\\nRisk Factors: {step.risk_factors}\\nSafety Measures: {step.safety_measures}\\n\"))\n",
    "        break"
   ]
  },
  {
   "cell_type": "code",
   "execution_count": 87,
   "id": "0b1e0d3b",
   "metadata": {},
   "outputs": [
    {
     "data": {
      "text/plain": [
       "[SystemMessage(content='You are a helpful home expert assistant who assists users with DIY home tasks like hanging wall mirrors, painting walls, installing shelves, etc.', additional_kwargs={}, response_metadata={}),\n",
       " AIMessage(content='How can I assist you today?', additional_kwargs={}, response_metadata={}),\n",
       " HumanMessage(content='I want to hang a wall mirror in my living room.', additional_kwargs={}, response_metadata={}),\n",
       " AIMessage(content='What problems are you running into with hanging the wall mirror?', additional_kwargs={}, response_metadata={}),\n",
       " HumanMessage(content=\"I'm trying to hang a wall mirror but I'm not sure how to do it properly.\", additional_kwargs={}, response_metadata={}),\n",
       " AIMessage(content='Describe it in more detail', additional_kwargs={}, response_metadata={}),\n",
       " HumanMessage(content=\"I don't want to scratch the walls or break the glass. It has two hooks for attachments.\", additional_kwargs={}, response_metadata={}),\n",
       " AIMessage(content='Do you have experience hanging a mirror?', additional_kwargs={}, response_metadata={}),\n",
       " HumanMessage(content='Yes, I have hang a small to medium-sized mirror before.', additional_kwargs={}, response_metadata={}),\n",
       " AIMessage(content='Could you provide with a list of the tools and materials you have?', additional_kwargs={}, response_metadata={}),\n",
       " HumanMessage(content='I have a hammer, nails, and a level.', additional_kwargs={}, response_metadata={}),\n",
       " AIMessage(content='Here are some questions to help me understand your task better:', additional_kwargs={}, response_metadata={}),\n",
       " AIMessage(content=\"Q1: What type of wall are you hanging the mirror on?\\nOptions:\\nDrywall\\nPlaster\\nBrick / Concrete\\nI'm not sure\\n\", additional_kwargs={}, response_metadata={}),\n",
       " HumanMessage(content='Drywall', additional_kwargs={}, response_metadata={}),\n",
       " AIMessage(content='Q2: What is the approximate weight of the mirror?\\nOptions:\\nLight (under 10 lbs / 5 kg)\\nMedium (10-25 lbs / 5-11 kg)\\nHeavy (over 25 lbs / 11 kg)\\n', additional_kwargs={}, response_metadata={}),\n",
       " HumanMessage(content='Heavy (over 25 lbs / 11 kg)', additional_kwargs={}, response_metadata={}),\n",
       " AIMessage(content='Q3: What are the approximate dimensions (width and height) of the mirror?', additional_kwargs={}, response_metadata={}),\n",
       " HumanMessage(content='Height : 75 cm and Width : 50cm', additional_kwargs={}, response_metadata={}),\n",
       " AIMessage(content='Q4: Are the two hooks on the back connected by a wire?\\nOptions:\\nYes, there is a wire between them\\nNo, they are separate hooks (e.g., D-rings)\\n', additional_kwargs={}, response_metadata={}),\n",
       " HumanMessage(content='Yes, there is a wire between them', additional_kwargs={}, response_metadata={}),\n",
       " AIMessage(content='Q5: Do you have a tape measure?\\nOptions:\\nYes\\nNo\\n', additional_kwargs={}, response_metadata={}),\n",
       " HumanMessage(content='Yes', additional_kwargs={}, response_metadata={}),\n",
       " AIMessage(content='Q6: Do you have a stud finder to locate the support beams in the wall?\\nOptions:\\nYes\\nNo\\n', additional_kwargs={}, response_metadata={}),\n",
       " HumanMessage(content='No', additional_kwargs={}, response_metadata={}),\n",
       " AIMessage(content=\"Q7: Is the mirror's frame made of a heavy material like wood or metal?\\nOptions:\\nYes, it's a heavy frame\\nNo, it's a light frame (e.g., plastic) or it's frameless\\n\", additional_kwargs={}, response_metadata={}),\n",
       " HumanMessage(content=\"Yes, it's a heavy frame\", additional_kwargs={}, response_metadata={}),\n",
       " AIMessage(content='Here are the tools and materials required for your task:', additional_kwargs={}, response_metadata={}),\n",
       " AIMessage(content='Tool Name: Stud Finder\\nDescription: Essential for locating wooden studs behind your drywall. Hanging a heavy mirror (over 25 lbs) directly into a stud provides the most secure attachment point, significantly reducing the risk of the mirror falling and damaging the wall or breaking.', additional_kwargs={}, response_metadata={}),\n",
       " AIMessage(content='Tool Name: Power Drill\\nDescription: Required for drilling pilot holes if you locate a stud, or for installing heavy-duty drywall anchors (such as toggle bolts or molly bolts) if a stud is not available at your desired hanging location. Nails alone are not sufficient for a heavy mirror on drywall.', additional_kwargs={}, response_metadata={}),\n",
       " AIMessage(content='Tool Name: Drill Bit Set\\nDescription: A set of various drill bits will ensure you have the correct size for pilot holes (if drilling into a stud) or for the specific heavy-duty drywall anchors you will need to use. The size will depend on the chosen anchor/screw.', additional_kwargs={}, response_metadata={}),\n",
       " AIMessage(content=\"Tool Name: Pencil\\nDescription: For accurately marking the desired height and width for your mirror's hanging point on the wall before drilling, ensuring precise placement.\", additional_kwargs={}, response_metadata={}),\n",
       " AIMessage(content=\"Tool Name: Painter's Tape\\nDescription: Helpful for marking your measurements on the wall without leaving permanent marks, and can also be used to temporarily mark the mirror's hanging points to transfer measurements to the wall, especially useful for one-person installation.\", additional_kwargs={}, response_metadata={}),\n",
       " AIMessage(content='Tool Name: Safety Glasses\\nDescription: Recommended for eye protection when drilling into walls, as dust and small debris can be generated during the process.', additional_kwargs={}, response_metadata={}),\n",
       " AIMessage(content='Tool Name: Work Gloves\\nDescription: Provides a better grip when handling the heavy mirror and protects your hands from potential splinters from the mirror frame or minor abrasions during installation.', additional_kwargs={}, response_metadata={}),\n",
       " HumanMessage(content='Provide me the step by step approaches to complete the task along with their description and safety measures.', additional_kwargs={}, response_metadata={}),\n",
       " AIMessage(content='Here are the step by step approaches to complete your task along with their description and safety measures:', additional_kwargs={}, response_metadata={}),\n",
       " AIMessage(content=\"Step 1:Plan and Measure Your Placement\\nDescription: First, decide on the perfect spot for your mirror. A general guideline is to hang it so the center is at eye level, which is typically about 60 inches (152 cm) from the floor. Have a helper hold the mirror against the wall to visualize the final position. Once you're happy with the placement, use your tape measure and a pencil to make a light, small mark on the wall indicating the top center of the mirror frame.\\nRisk Factors: Incorrect placement can result in an off-center or poorly positioned mirror, requiring you to patch holes and start over. Permanent marks can damage the wall paint.\\nSafety Measures: Use a pencil for marks, as they are easily erased. Confirm the placement with a helper before marking. Measure twice to ensure accuracy.\\n\", additional_kwargs={}, response_metadata={}),\n",
       " HumanMessage(content='I dont have anyone to hold the mirror while I am hanging it. What should I do?', additional_kwargs={}, response_metadata={}),\n",
       " AIMessage(content=\"No worries at all! You can definitely plan and measure your mirror's placement even without a helper.\\n\\nInstead of having someone hold the mirror, you can use your **painter's tape** to outline the mirror's dimensions on the wall. Here's how:\\n\\n1.  **Measure the mirror's total height and width** with your tape measure.\\n2.  **Use your painter's tape to create an outline of the mirror on the wall** at your desired height and width. This will give you a visual representation of the mirror's footprint.\\n3.  **Step back and assess** if this placement looks good in the room. You can easily adjust the tape until you're happy with the position.\\n4.  Once satisfied, you can then make your light pencil mark for the top center of the mirror frame within this tape outline.\\n\\nThis method allows you to visualize and confirm the perfect spot for your mirror independently, ensuring precise placement without any risk to your walls or the mirror itself. I'm here to guide you through each step to make sure your mirror hanging is a success!\", additional_kwargs={}, response_metadata={}),\n",
       " HumanMessage(content='Its great and everything is perfect.', additional_kwargs={}, response_metadata={}),\n",
       " AIMessage(content=\"Step 2:Locate the Wall Studs\\nDescription: Since your mirror is heavy, hanging it on wall studs is the safest option. Turn on your stud finder and calibrate it against the wall according to its instructions. Slide it horizontally across the wall at the height where your hanging hooks will be. Mark the left and right edges of each stud you locate. Studs are typically 16 or 24 inches apart.\\nRisk Factors: Failing to locate studs or misidentifying their location can lead to installing hardware into hollow drywall, which will not support a heavy mirror, causing it to fall.\\nSafety Measures: Read the stud finder's manual for proper use. Scan the wall multiple times to confirm stud locations. A common verification method is to tap the wall; a hollow sound indicates drywall, while a solid, dull thud indicates a stud.\\n\", additional_kwargs={}, response_metadata={}),\n",
       " HumanMessage(content='I am not confident about using the stud finder properly. Can you explain how to use it?', additional_kwargs={}, response_metadata={}),\n",
       " AIMessage(content=\"Absolutely, it's completely normal to feel unsure about using a new tool like a stud finder, especially when a heavy mirror is involved! I'm here to make sure you feel confident with every step.\\n\\nHere's a simple breakdown of how to use a stud finder properly:\\n\\n1.  **Turn it On and Calibrate:** Most stud finders have a power button. Once on, some models require a quick calibration. This usually involves placing it flat against the wall where you *know* there's no stud (e.g., in the middle of a wall section) and pressing a calibrate button until it beeps or lights up, indicating it's ready. This sets its baseline.\\n2.  **Place and Slide:** Place the stud finder flat against the wall at the approximate height where your mirror's hanging point will be. Slowly slide it horizontally across the wall in one continuous motion.\\n3.  **Look/Listen for Indicators:** As you slide, the stud finder will typically light up, beep, or display an arrow when it detects a stud. Many will indicate the *edge* of a stud first, and then the center.\\n4.  **Mark the Edges:** When the stud finder indicates a stud, make a light pencil mark on the wall. Continue sliding past the stud until the indicator turns off, then slide back to find the other edge and mark it.\\n5.  **Find the Center:** The stud's center will be approximately halfway between your two marks. It's a good practice to scan the area a few times from different directions to confirm the location.\\n\\nUsing a stud finder effectively will ensure you find the most secure spot for your heavy mirror. Don't hesitate to ask if you have any more questions about it!\", additional_kwargs={}, response_metadata={}),\n",
       " HumanMessage(content='Yeah!! I am done with this step and I am ready to hang the mirror now.', additional_kwargs={}, response_metadata={}),\n",
       " AIMessage(content='Step 3:Mark the Drilling Points\\nDescription: On the back of the mirror, pull the hanging wire up and tight, as if it were hanging. Use your tape measure to find the distance from the top of the mirror frame down to the peak of the taut wire. Now, go back to the wall and measure down this exact distance from the top-center mark you made in Step 1. This is your vertical hanging height. For stability with a heavy mirror, you will use two hooks. From your new vertical mark, measure outwards to the left and right to your marked stud locations (or about 6-8 inches apart if no studs are ideally placed). Use your level to ensure these two final drilling points are perfectly horizontal.\\nRisk Factors: Inaccurate measurements will result in a crooked mirror. If the two hook points are not level, the mirror will hang at an angle.\\nSafety Measures: Double-check all your measurements. Use your level to draw a faint, straight line between the two hook points to guarantee they are perfectly aligned before you drill.\\n', additional_kwargs={}, response_metadata={}),\n",
       " HumanMessage(content='I am a bit confused about the measurements. Can you help me with that?', additional_kwargs={}, response_metadata={}),\n",
       " AIMessage(content='Absolutely, it\\'s common for measurements to feel a bit tricky, especially when you want to get it just right! I\\'m happy to clarify Step 3 for you to make sure you\\'re confident before moving forward.\\n\\nStep 3 involves two main types of measurements to ensure your heavy mirror hangs securely and perfectly level:\\n\\n1.  **Finding the \"Drop\" Distance (Measurement on the Mirror):**\\n    *   **Purpose:** This tells you how far *down* from the very top edge of your mirror frame the actual hanging point (the taut wire) will be.\\n    *   **How to do it:**\\n        *   Hold your mirror or lay it face down.\\n        *   Take the hanging wire on the back and pull it upwards and tight, just as it would be if it were hanging on a hook.\\n        *   Using your tape measure, measure the distance from the *very top edge of the mirror\\'s frame* straight down to the *highest point of the taut wire* (the peak of the triangle the wire forms when pulled tight).\\n        *   Write this measurement down carefully. This is your \"drop\" distance.\\n\\n2.  **Marking the Wall for Your Two Hooks (Measurements on the Wall):**\\n    *   **Purpose:** To mark the precise vertical and horizontal spots where your two wall hooks/screws will go. For a heavy mirror like yours, using two points helps distribute the weight and provides more stability.\\n    *   **How to do it:**\\n        *   Go to the wall where you made the light pencil mark for the *top center of the mirror frame* (from Step 1).\\n        *   From this top-center mark, measure *down* the \"drop\" distance you just calculated from the mirror. Make a new light pencil mark at this point. This new mark represents the *vertical height* where the very top of your two wall hooks/screws will be.\\n        *   Now, for the *horizontal placement* of your two hooks: Since you\\'ve located studs, the safest and most secure method for a heavy mirror is to attach your hooks directly into two studs.\\n            *   Look at the stud marks you made in Step 2.\\n            *   From the *new vertical mark* you just made (your hanging height), measure horizontally to the *center of two adjacent studs* that fall within the general width of your mirror. Mark these two points with your pencil. These will be the exact spots for your hooks/screws.\\n            *   **Important:** Use your level to draw a faint, straight line between these two final marks to ensure they are perfectly horizontal. The mirror\\'s wire will rest across these two points.\\n\\nTake your time with each measurement, double-checking them as you go. You\\'ve got this! Let me know if any part still feels unclear.', additional_kwargs={}, response_metadata={}),\n",
       " HumanMessage(content=\"Got it and I'm done with the markings and the measurements.\", additional_kwargs={}, response_metadata={}),\n",
       " AIMessage(content=\"Step 4:Drill Holes and Install Hardware\\nDescription: Put on your safety glasses. If your marks are on studs, use a power drill with a bit slightly smaller than your screw's diameter to drill a pilot hole. Then, screw in a heavy-duty picture hook or screw rated for over 50 lbs, leaving it protruding about 1/4 inch. If you cannot use studs, you MUST use heavy-duty drywall anchors like toggle bolts. Drill a hole that matches the anchor's size requirements, insert the folded anchor, and tighten the screw until the anchor is secure against the back of the drywall, again leaving it out 1/4 inch.\\nRisk Factors: Drilling into unseen electrical wires or plumbing. Using the wrong hardware can lead to mirror failure. Wall damage from incorrect drilling.\\nSafety Measures: Always wear safety glasses when drilling. Be aware of nearby outlets or light switches, as wiring may be present. Never use nails or standard plastic anchors for a heavy mirror. Ensure the anchors or screws are rated for at least double the mirror's weight.\\n\", additional_kwargs={}, response_metadata={}),\n",
       " HumanMessage(content='I am not sure about the anchor type and its size to use for the wall. Can you help me with that?', additional_kwargs={}, response_metadata={}),\n",
       " AIMessage(content='Absolutely, it\\'s crucial to choose the right anchor type and size for a heavy mirror on drywall – that\\'s a smart question to ask! I\\'m here to ensure you select the most secure option.\\n\\nFor a mirror weighing over 25 lbs (11 kg) on drywall, you **must use heavy-duty drywall anchors**. Standard nails or small plastic anchors will not be sufficient and could lead to the mirror falling.\\n\\nHere are the most reliable types and how to think about sizing:\\n\\n1.  **Toggle Bolts (Butterfly Anchors):**\\n    *   **Description:** These are excellent for very heavy loads. They require a larger hole, but once inserted, a metal \"wing\" springs open behind the drywall, creating a very strong grip.\\n    *   **Sizing:** They come in various sizes (e.g., 1/8 inch, 3/16 inch, 1/4 inch). The size refers to the bolt diameter. **Always check the packaging for the weight rating.** For your heavy mirror, look for toggle bolts rated for at least 50 lbs (or even 75-100 lbs for extra peace of mind) *per anchor*. Since you\\'re using two hooks, you\\'ll need two anchors, and their combined rating should be well over the mirror\\'s weight.\\n\\n2.  **Molly Bolts (Sleeve Anchors):**\\n    *   **Description:** These are metal anchors that expand behind the drywall as you tighten a screw. They also provide a very secure hold for heavy items.\\n    *   **Sizing:** Similar to toggle bolts, they come in different diameters and lengths. Again, **the most important factor is the weight rating on the packaging.** Choose molly bolts rated for heavy loads (e.g., 50+ lbs per anchor).\\n\\n3.  **Heavy-Duty Self-Drilling Drywall Anchors (e.g., \"Toggler Snaptoggle\" or similar):**\\n    *   **Description:** Some newer, heavy-duty self-drilling anchors are designed for significant weight. They often have a large thread that screws into the drywall, and then a mechanism (like a toggle) expands behind the wall.\\n    *   **Sizing:** These will also clearly state their weight capacity on the package. Ensure you pick ones specifically labeled for \"heavy-duty\" or \"up to 75 lbs\" (or more) per anchor.\\n\\n**Key takeaway for sizing:**\\n*   **Always check the manufacturer\\'s weight rating on the anchor packaging.** Do not guess.\\n*   Choose anchors that are collectively rated for at least double the weight of your mirror to ensure maximum safety and stability.\\n*   The size of the drill bit you\\'ll need will be specified on the anchor\\'s packaging.\\n\\nIf you\\'re unable to drill into a stud, using one of these heavy-duty anchors is essential for the safety of your mirror and wall. Let me know if you have any more questions about them!', additional_kwargs={}, response_metadata={}),\n",
       " HumanMessage(content='I think I should use a heavy-duty self-drilling drywall anchor as suggested for the wall. Is that correct as per the conditions?', additional_kwargs={}, response_metadata={}),\n",
       " AIMessage(content=\"Yes, that's absolutely correct and a smart choice! Given that your mirror is heavy (over 25 lbs) and you're hanging it on drywall, a **heavy-duty self-drilling drywall anchor** is indeed a very suitable and secure option, especially if you're not able to drill directly into a wall stud at your desired location.\\n\\nThese types of anchors are specifically designed to provide strong support in drywall for heavier items. Just make sure to:\\n*   **Check the weight rating on the anchor's packaging** to ensure it can safely support at least double the weight of your mirror.\\n*   **Follow the manufacturer's instructions** for installation, including the correct drill bit size if needed.\\n\\nYou're on the right track to ensuring your mirror is hung safely and securely!\", additional_kwargs={}, response_metadata={}),\n",
       " HumanMessage(content='I have completed this step and ready for the next.', additional_kwargs={}, response_metadata={}),\n",
       " AIMessage(content='Step 5:Hang the Mirror with a Helper\\nDescription: This step requires two people. Put on your work gloves for a better grip. With your helper, each person should hold one side of the mirror. Lift it carefully, keeping your back straight and lifting with your legs. Tilt the top of the mirror towards the wall and carefully guide the hanging wire onto the two hooks you installed. Communicate with your helper to lower it slowly and evenly until you feel the wire is securely caught on both hooks.\\nRisk Factors: Dropping and breaking the mirror. Personal injury from lifting a heavy, awkward object. Scratching the wall or floor during placement.\\nSafety Measures: Never attempt to hang a heavy mirror alone. Wear work gloves to protect your hands and improve grip. Plan your path from the floor to the wall to avoid tripping hazards.\\n', additional_kwargs={}, response_metadata={}),\n",
       " HumanMessage(content='I am working alone and I am not sure how to hold the mirror while I am hanging it. Can you help me with that?', additional_kwargs={}, response_metadata={}),\n",
       " AIMessage(content=\"No worries at all! Hanging a heavy mirror by yourself can be done safely with a few smart adjustments, especially since you've already got your precise markings and heavy-duty anchors in place. You don't necessarily need a helper for this final step, though it always makes it easier.\\n\\nHere's how you can safely hang the heavy mirror by yourself:\\n\\n1.  **Create a Temporary Support Ledge:**\\n    *   Find a sturdy, stable object that you can place directly below where the bottom of your mirror will rest on the wall. This could be a small step stool, a stack of strong books, or a sturdy box.\\n    *   The top of this object should be just a few inches *below* the final resting height of the mirror's bottom edge. This will allow the mirror to lean against it, taking most of the weight off your arms while you align the hooks.\\n\\n2.  **Prepare the Mirror:**\\n    *   Put on your **work gloves** for a better grip and protection.\\n    *   Carefully lift the mirror. Instead of trying to lift it high, focus on getting the bottom edge to rest securely on your temporary support ledge.\\n\\n3.  **Lean and Align:**\\n    *   Once the bottom of the mirror is resting on the support, carefully tilt the top of the mirror towards the wall.\\n    *   With the majority of the mirror's weight supported from below, you can now use both hands to slowly and carefully guide the hanging wire onto the two hooks you installed.\\n    *   Take your time, making small adjustments until you feel the wire securely engage both hooks.\\n\\n4.  **Final Check:**\\n    *   Once the mirror is on the hooks, gently remove your temporary support.\\n    *   Step back and check that the mirror is level (you can use your level again if you wish) and sitting securely on both anchors.\\n\\nThis method allows you to manage the weight and precisely align the mirror without needing a second person. You've got this!\", additional_kwargs={}, response_metadata={}),\n",
       " HumanMessage(content='Yeah I am done with this step.', additional_kwargs={}, response_metadata={}),\n",
       " AIMessage(content=\"Step 6:Level, Secure, and Clean Up\\nDescription: Once the mirror is on the wall, place your level on the top edge to check if it's straight. If it's slightly off, gently shift the mirror side-to-side on the hooks until it's perfect. Gently press on the mirror's frame to ensure it is stable and does not wobble. Finally, use a cloth to wipe any fingerprints off the mirror and vacuum any dust created by drilling.\\nRisk Factors: The mirror may not be fully secure on the hooks and could fall later. Leaving the mirror crooked.\\nSafety Measures: Perform a gentle 'wobble test' to confirm the mirror is securely seated on the hooks. If it moves easily, take it down and inspect the hardware. Make only small, careful adjustments when leveling.\\n\", additional_kwargs={}, response_metadata={})]"
      ]
     },
     "execution_count": 87,
     "metadata": {},
     "output_type": "execute_result"
    }
   ],
   "source": [
    "messages"
   ]
  },
  {
   "cell_type": "code",
   "execution_count": 66,
   "id": "7d8f36a8",
   "metadata": {},
   "outputs": [
    {
     "name": "stdout",
     "output_type": "stream",
     "text": [
      "Absolutely, it's completely normal to feel unsure about using a new tool like a stud finder, especially when a heavy mirror is involved! I'm here to make sure you feel confident with every step.\n",
      "\n",
      "Here's a simple breakdown of how to use a stud finder properly:\n",
      "\n",
      "1.  **Turn it On and Calibrate:** Most stud finders have a power button. Once on, some models require a quick calibration. This usually involves placing it flat against the wall where you *know* there's no stud (e.g., in the middle of a wall section) and pressing a calibrate button until it beeps or lights up, indicating it's ready. This sets its baseline.\n",
      "2.  **Place and Slide:** Place the stud finder flat against the wall at the approximate height where your mirror's hanging point will be. Slowly slide it horizontally across the wall in one continuous motion.\n",
      "3.  **Look/Listen for Indicators:** As you slide, the stud finder will typically light up, beep, or display an arrow when it detects a stud. Many will indicate the *edge* of a stud first, and then the center.\n",
      "4.  **Mark the Edges:** When the stud finder indicates a stud, make a light pencil mark on the wall. Continue sliding past the stud until the indicator turns off, then slide back to find the other edge and mark it.\n",
      "5.  **Find the Center:** The stud's center will be approximately halfway between your two marks. It's a good practice to scan the area a few times from different directions to confirm the location.\n",
      "\n",
      "Using a stud finder effectively will ensure you find the most secure spot for your heavy mirror. Don't hesitate to ask if you have any more questions about it!\n"
     ]
    }
   ],
   "source": [
    "doubts=\"I am not confident about using the stud finder properly. Can you explain how to use it?\"\n",
    "resp=chat_chain.invoke({\"chat_history\": messages, \"query\": doubts})\n",
    "print(resp)"
   ]
  },
  {
   "cell_type": "code",
   "execution_count": 67,
   "id": "d090bdb5",
   "metadata": {},
   "outputs": [],
   "source": [
    "messages.append(HumanMessage(content=doubts))\n",
    "messages.append(AIMessage(content=resp))"
   ]
  },
  {
   "cell_type": "code",
   "execution_count": 69,
   "id": "c1f12e25",
   "metadata": {},
   "outputs": [],
   "source": [
    "messages.append(HumanMessage(content=\"Yeah!! I am done with this step and I am ready to hang the mirror now.\"))"
   ]
  },
  {
   "cell_type": "code",
   "execution_count": 72,
   "id": "14f781a4",
   "metadata": {},
   "outputs": [
    {
     "name": "stdout",
     "output_type": "stream",
     "text": [
      "Absolutely, it's common for measurements to feel a bit tricky, especially when you want to get it just right! I'm happy to clarify Step 3 for you to make sure you're confident before moving forward.\n",
      "\n",
      "Step 3 involves two main types of measurements to ensure your heavy mirror hangs securely and perfectly level:\n",
      "\n",
      "1.  **Finding the \"Drop\" Distance (Measurement on the Mirror):**\n",
      "    *   **Purpose:** This tells you how far *down* from the very top edge of your mirror frame the actual hanging point (the taut wire) will be.\n",
      "    *   **How to do it:**\n",
      "        *   Hold your mirror or lay it face down.\n",
      "        *   Take the hanging wire on the back and pull it upwards and tight, just as it would be if it were hanging on a hook.\n",
      "        *   Using your tape measure, measure the distance from the *very top edge of the mirror's frame* straight down to the *highest point of the taut wire* (the peak of the triangle the wire forms when pulled tight).\n",
      "        *   Write this measurement down carefully. This is your \"drop\" distance.\n",
      "\n",
      "2.  **Marking the Wall for Your Two Hooks (Measurements on the Wall):**\n",
      "    *   **Purpose:** To mark the precise vertical and horizontal spots where your two wall hooks/screws will go. For a heavy mirror like yours, using two points helps distribute the weight and provides more stability.\n",
      "    *   **How to do it:**\n",
      "        *   Go to the wall where you made the light pencil mark for the *top center of the mirror frame* (from Step 1).\n",
      "        *   From this top-center mark, measure *down* the \"drop\" distance you just calculated from the mirror. Make a new light pencil mark at this point. This new mark represents the *vertical height* where the very top of your two wall hooks/screws will be.\n",
      "        *   Now, for the *horizontal placement* of your two hooks: Since you've located studs, the safest and most secure method for a heavy mirror is to attach your hooks directly into two studs.\n",
      "            *   Look at the stud marks you made in Step 2.\n",
      "            *   From the *new vertical mark* you just made (your hanging height), measure horizontally to the *center of two adjacent studs* that fall within the general width of your mirror. Mark these two points with your pencil. These will be the exact spots for your hooks/screws.\n",
      "            *   **Important:** Use your level to draw a faint, straight line between these two final marks to ensure they are perfectly horizontal. The mirror's wire will rest across these two points.\n",
      "\n",
      "Take your time with each measurement, double-checking them as you go. You've got this! Let me know if any part still feels unclear.\n"
     ]
    }
   ],
   "source": [
    "doubts=\"I am a bit confused about the measurements. Can you help me with that?\"\n",
    "resp=chat_chain.invoke({\"chat_history\": messages, \"query\": doubts})\n",
    "print(resp)"
   ]
  },
  {
   "cell_type": "code",
   "execution_count": 73,
   "id": "a3a9b4d7",
   "metadata": {},
   "outputs": [],
   "source": [
    "messages.append(HumanMessage(content=doubts))\n",
    "messages.append(AIMessage(content=resp))\n",
    "messages.append(HumanMessage(content=\"Got it and I'm done with the markings and the measurements.\"))"
   ]
  },
  {
   "cell_type": "code",
   "execution_count": 77,
   "id": "ee0ab859",
   "metadata": {},
   "outputs": [
    {
     "name": "stdout",
     "output_type": "stream",
     "text": [
      "Absolutely, it's crucial to choose the right anchor type and size for a heavy mirror on drywall – that's a smart question to ask! I'm here to ensure you select the most secure option.\n",
      "\n",
      "For a mirror weighing over 25 lbs (11 kg) on drywall, you **must use heavy-duty drywall anchors**. Standard nails or small plastic anchors will not be sufficient and could lead to the mirror falling.\n",
      "\n",
      "Here are the most reliable types and how to think about sizing:\n",
      "\n",
      "1.  **Toggle Bolts (Butterfly Anchors):**\n",
      "    *   **Description:** These are excellent for very heavy loads. They require a larger hole, but once inserted, a metal \"wing\" springs open behind the drywall, creating a very strong grip.\n",
      "    *   **Sizing:** They come in various sizes (e.g., 1/8 inch, 3/16 inch, 1/4 inch). The size refers to the bolt diameter. **Always check the packaging for the weight rating.** For your heavy mirror, look for toggle bolts rated for at least 50 lbs (or even 75-100 lbs for extra peace of mind) *per anchor*. Since you're using two hooks, you'll need two anchors, and their combined rating should be well over the mirror's weight.\n",
      "\n",
      "2.  **Molly Bolts (Sleeve Anchors):**\n",
      "    *   **Description:** These are metal anchors that expand behind the drywall as you tighten a screw. They also provide a very secure hold for heavy items.\n",
      "    *   **Sizing:** Similar to toggle bolts, they come in different diameters and lengths. Again, **the most important factor is the weight rating on the packaging.** Choose molly bolts rated for heavy loads (e.g., 50+ lbs per anchor).\n",
      "\n",
      "3.  **Heavy-Duty Self-Drilling Drywall Anchors (e.g., \"Toggler Snaptoggle\" or similar):**\n",
      "    *   **Description:** Some newer, heavy-duty self-drilling anchors are designed for significant weight. They often have a large thread that screws into the drywall, and then a mechanism (like a toggle) expands behind the wall.\n",
      "    *   **Sizing:** These will also clearly state their weight capacity on the package. Ensure you pick ones specifically labeled for \"heavy-duty\" or \"up to 75 lbs\" (or more) per anchor.\n",
      "\n",
      "**Key takeaway for sizing:**\n",
      "*   **Always check the manufacturer's weight rating on the anchor packaging.** Do not guess.\n",
      "*   Choose anchors that are collectively rated for at least double the weight of your mirror to ensure maximum safety and stability.\n",
      "*   The size of the drill bit you'll need will be specified on the anchor's packaging.\n",
      "\n",
      "If you're unable to drill into a stud, using one of these heavy-duty anchors is essential for the safety of your mirror and wall. Let me know if you have any more questions about them!\n"
     ]
    }
   ],
   "source": [
    "doubts=\"I am not sure about the anchor type and its size to use for the wall. Can you help me with that?\"\n",
    "resp=chat_chain.invoke({\"chat_history\": messages, \"query\": doubts})\n",
    "print(resp)"
   ]
  },
  {
   "cell_type": "code",
   "execution_count": 78,
   "id": "f9a6d134",
   "metadata": {},
   "outputs": [
    {
     "name": "stdout",
     "output_type": "stream",
     "text": [
      "Yes, that's absolutely correct and a smart choice! Given that your mirror is heavy (over 25 lbs) and you're hanging it on drywall, a **heavy-duty self-drilling drywall anchor** is indeed a very suitable and secure option, especially if you're not able to drill directly into a wall stud at your desired location.\n",
      "\n",
      "These types of anchors are specifically designed to provide strong support in drywall for heavier items. Just make sure to:\n",
      "*   **Check the weight rating on the anchor's packaging** to ensure it can safely support at least double the weight of your mirror.\n",
      "*   **Follow the manufacturer's instructions** for installation, including the correct drill bit size if needed.\n",
      "\n",
      "You're on the right track to ensuring your mirror is hung safely and securely!\n"
     ]
    }
   ],
   "source": [
    "messages.append(HumanMessage(content=doubts))\n",
    "messages.append(AIMessage(content=resp))\n",
    "doubts=\"I think I should use a heavy-duty self-drilling drywall anchor as suggested for the wall. Is that correct as per the conditions?\"\n",
    "resp=chat_chain.invoke({\"chat_history\": messages, \"query\": doubts})\n",
    "print(resp)"
   ]
  },
  {
   "cell_type": "code",
   "execution_count": 79,
   "id": "53558512",
   "metadata": {},
   "outputs": [],
   "source": [
    "messages.append(HumanMessage(content=doubts))\n",
    "messages.append(AIMessage(content=resp))\n",
    "messages.append(HumanMessage(content=\"I have completed this step and ready for the next.\"))"
   ]
  },
  {
   "cell_type": "code",
   "execution_count": 83,
   "id": "cef49889",
   "metadata": {},
   "outputs": [
    {
     "name": "stdout",
     "output_type": "stream",
     "text": [
      "No worries at all! Hanging a heavy mirror by yourself can be done safely with a few smart adjustments, especially since you've already got your precise markings and heavy-duty anchors in place. You don't necessarily need a helper for this final step, though it always makes it easier.\n",
      "\n",
      "Here's how you can safely hang the heavy mirror by yourself:\n",
      "\n",
      "1.  **Create a Temporary Support Ledge:**\n",
      "    *   Find a sturdy, stable object that you can place directly below where the bottom of your mirror will rest on the wall. This could be a small step stool, a stack of strong books, or a sturdy box.\n",
      "    *   The top of this object should be just a few inches *below* the final resting height of the mirror's bottom edge. This will allow the mirror to lean against it, taking most of the weight off your arms while you align the hooks.\n",
      "\n",
      "2.  **Prepare the Mirror:**\n",
      "    *   Put on your **work gloves** for a better grip and protection.\n",
      "    *   Carefully lift the mirror. Instead of trying to lift it high, focus on getting the bottom edge to rest securely on your temporary support ledge.\n",
      "\n",
      "3.  **Lean and Align:**\n",
      "    *   Once the bottom of the mirror is resting on the support, carefully tilt the top of the mirror towards the wall.\n",
      "    *   With the majority of the mirror's weight supported from below, you can now use both hands to slowly and carefully guide the hanging wire onto the two hooks you installed.\n",
      "    *   Take your time, making small adjustments until you feel the wire securely engage both hooks.\n",
      "\n",
      "4.  **Final Check:**\n",
      "    *   Once the mirror is on the hooks, gently remove your temporary support.\n",
      "    *   Step back and check that the mirror is level (you can use your level again if you wish) and sitting securely on both anchors.\n",
      "\n",
      "This method allows you to manage the weight and precisely align the mirror without needing a second person. You've got this!\n"
     ]
    }
   ],
   "source": [
    "doubts=\"I am working alone and I am not sure how to hold the mirror while I am hanging it. Can you help me with that?\"\n",
    "resp=chat_chain.invoke({\"chat_history\": messages, \"query\": doubts})\n",
    "print(resp)"
   ]
  },
  {
   "cell_type": "code",
   "execution_count": 84,
   "id": "3e9bea97",
   "metadata": {},
   "outputs": [],
   "source": [
    "messages.append(HumanMessage(content=doubts))\n",
    "messages.append(AIMessage(content=resp))\n",
    "messages.append(HumanMessage(content=\"Yeah I am done with this step.\"))"
   ]
  },
  {
   "cell_type": "code",
   "execution_count": 88,
   "id": "32a02450",
   "metadata": {},
   "outputs": [],
   "source": [
    "messages.append(HumanMessage(content=\"Thank you for your help! I have completed the task successfully and it looks great.\"))"
   ]
  },
  {
   "cell_type": "code",
   "execution_count": 89,
   "id": "0703a05c",
   "metadata": {},
   "outputs": [
    {
     "data": {
      "text/plain": [
       "[SystemMessage(content='You are a helpful home expert assistant who assists users with DIY home tasks like hanging wall mirrors, painting walls, installing shelves, etc.', additional_kwargs={}, response_metadata={}),\n",
       " AIMessage(content='How can I assist you today?', additional_kwargs={}, response_metadata={}),\n",
       " HumanMessage(content='I want to hang a wall mirror in my living room.', additional_kwargs={}, response_metadata={}),\n",
       " AIMessage(content='What problems are you running into with hanging the wall mirror?', additional_kwargs={}, response_metadata={}),\n",
       " HumanMessage(content=\"I'm trying to hang a wall mirror but I'm not sure how to do it properly.\", additional_kwargs={}, response_metadata={}),\n",
       " AIMessage(content='Describe it in more detail', additional_kwargs={}, response_metadata={}),\n",
       " HumanMessage(content=\"I don't want to scratch the walls or break the glass. It has two hooks for attachments.\", additional_kwargs={}, response_metadata={}),\n",
       " AIMessage(content='Do you have experience hanging a mirror?', additional_kwargs={}, response_metadata={}),\n",
       " HumanMessage(content='Yes, I have hang a small to medium-sized mirror before.', additional_kwargs={}, response_metadata={}),\n",
       " AIMessage(content='Could you provide with a list of the tools and materials you have?', additional_kwargs={}, response_metadata={}),\n",
       " HumanMessage(content='I have a hammer, nails, and a level.', additional_kwargs={}, response_metadata={}),\n",
       " AIMessage(content='Here are some questions to help me understand your task better:', additional_kwargs={}, response_metadata={}),\n",
       " AIMessage(content=\"Q1: What type of wall are you hanging the mirror on?\\nOptions:\\nDrywall\\nPlaster\\nBrick / Concrete\\nI'm not sure\\n\", additional_kwargs={}, response_metadata={}),\n",
       " HumanMessage(content='Drywall', additional_kwargs={}, response_metadata={}),\n",
       " AIMessage(content='Q2: What is the approximate weight of the mirror?\\nOptions:\\nLight (under 10 lbs / 5 kg)\\nMedium (10-25 lbs / 5-11 kg)\\nHeavy (over 25 lbs / 11 kg)\\n', additional_kwargs={}, response_metadata={}),\n",
       " HumanMessage(content='Heavy (over 25 lbs / 11 kg)', additional_kwargs={}, response_metadata={}),\n",
       " AIMessage(content='Q3: What are the approximate dimensions (width and height) of the mirror?', additional_kwargs={}, response_metadata={}),\n",
       " HumanMessage(content='Height : 75 cm and Width : 50cm', additional_kwargs={}, response_metadata={}),\n",
       " AIMessage(content='Q4: Are the two hooks on the back connected by a wire?\\nOptions:\\nYes, there is a wire between them\\nNo, they are separate hooks (e.g., D-rings)\\n', additional_kwargs={}, response_metadata={}),\n",
       " HumanMessage(content='Yes, there is a wire between them', additional_kwargs={}, response_metadata={}),\n",
       " AIMessage(content='Q5: Do you have a tape measure?\\nOptions:\\nYes\\nNo\\n', additional_kwargs={}, response_metadata={}),\n",
       " HumanMessage(content='Yes', additional_kwargs={}, response_metadata={}),\n",
       " AIMessage(content='Q6: Do you have a stud finder to locate the support beams in the wall?\\nOptions:\\nYes\\nNo\\n', additional_kwargs={}, response_metadata={}),\n",
       " HumanMessage(content='No', additional_kwargs={}, response_metadata={}),\n",
       " AIMessage(content=\"Q7: Is the mirror's frame made of a heavy material like wood or metal?\\nOptions:\\nYes, it's a heavy frame\\nNo, it's a light frame (e.g., plastic) or it's frameless\\n\", additional_kwargs={}, response_metadata={}),\n",
       " HumanMessage(content=\"Yes, it's a heavy frame\", additional_kwargs={}, response_metadata={}),\n",
       " AIMessage(content='Here are the tools and materials required for your task:', additional_kwargs={}, response_metadata={}),\n",
       " AIMessage(content='Tool Name: Stud Finder\\nDescription: Essential for locating wooden studs behind your drywall. Hanging a heavy mirror (over 25 lbs) directly into a stud provides the most secure attachment point, significantly reducing the risk of the mirror falling and damaging the wall or breaking.', additional_kwargs={}, response_metadata={}),\n",
       " AIMessage(content='Tool Name: Power Drill\\nDescription: Required for drilling pilot holes if you locate a stud, or for installing heavy-duty drywall anchors (such as toggle bolts or molly bolts) if a stud is not available at your desired hanging location. Nails alone are not sufficient for a heavy mirror on drywall.', additional_kwargs={}, response_metadata={}),\n",
       " AIMessage(content='Tool Name: Drill Bit Set\\nDescription: A set of various drill bits will ensure you have the correct size for pilot holes (if drilling into a stud) or for the specific heavy-duty drywall anchors you will need to use. The size will depend on the chosen anchor/screw.', additional_kwargs={}, response_metadata={}),\n",
       " AIMessage(content=\"Tool Name: Pencil\\nDescription: For accurately marking the desired height and width for your mirror's hanging point on the wall before drilling, ensuring precise placement.\", additional_kwargs={}, response_metadata={}),\n",
       " AIMessage(content=\"Tool Name: Painter's Tape\\nDescription: Helpful for marking your measurements on the wall without leaving permanent marks, and can also be used to temporarily mark the mirror's hanging points to transfer measurements to the wall, especially useful for one-person installation.\", additional_kwargs={}, response_metadata={}),\n",
       " AIMessage(content='Tool Name: Safety Glasses\\nDescription: Recommended for eye protection when drilling into walls, as dust and small debris can be generated during the process.', additional_kwargs={}, response_metadata={}),\n",
       " AIMessage(content='Tool Name: Work Gloves\\nDescription: Provides a better grip when handling the heavy mirror and protects your hands from potential splinters from the mirror frame or minor abrasions during installation.', additional_kwargs={}, response_metadata={}),\n",
       " HumanMessage(content='Provide me the step by step approaches to complete the task along with their description and safety measures.', additional_kwargs={}, response_metadata={}),\n",
       " AIMessage(content='Here are the step by step approaches to complete your task along with their description and safety measures:', additional_kwargs={}, response_metadata={}),\n",
       " AIMessage(content=\"Step 1:Plan and Measure Your Placement\\nDescription: First, decide on the perfect spot for your mirror. A general guideline is to hang it so the center is at eye level, which is typically about 60 inches (152 cm) from the floor. Have a helper hold the mirror against the wall to visualize the final position. Once you're happy with the placement, use your tape measure and a pencil to make a light, small mark on the wall indicating the top center of the mirror frame.\\nRisk Factors: Incorrect placement can result in an off-center or poorly positioned mirror, requiring you to patch holes and start over. Permanent marks can damage the wall paint.\\nSafety Measures: Use a pencil for marks, as they are easily erased. Confirm the placement with a helper before marking. Measure twice to ensure accuracy.\\n\", additional_kwargs={}, response_metadata={}),\n",
       " HumanMessage(content='I dont have anyone to hold the mirror while I am hanging it. What should I do?', additional_kwargs={}, response_metadata={}),\n",
       " AIMessage(content=\"No worries at all! You can definitely plan and measure your mirror's placement even without a helper.\\n\\nInstead of having someone hold the mirror, you can use your **painter's tape** to outline the mirror's dimensions on the wall. Here's how:\\n\\n1.  **Measure the mirror's total height and width** with your tape measure.\\n2.  **Use your painter's tape to create an outline of the mirror on the wall** at your desired height and width. This will give you a visual representation of the mirror's footprint.\\n3.  **Step back and assess** if this placement looks good in the room. You can easily adjust the tape until you're happy with the position.\\n4.  Once satisfied, you can then make your light pencil mark for the top center of the mirror frame within this tape outline.\\n\\nThis method allows you to visualize and confirm the perfect spot for your mirror independently, ensuring precise placement without any risk to your walls or the mirror itself. I'm here to guide you through each step to make sure your mirror hanging is a success!\", additional_kwargs={}, response_metadata={}),\n",
       " HumanMessage(content='Its great and everything is perfect.', additional_kwargs={}, response_metadata={}),\n",
       " AIMessage(content=\"Step 2:Locate the Wall Studs\\nDescription: Since your mirror is heavy, hanging it on wall studs is the safest option. Turn on your stud finder and calibrate it against the wall according to its instructions. Slide it horizontally across the wall at the height where your hanging hooks will be. Mark the left and right edges of each stud you locate. Studs are typically 16 or 24 inches apart.\\nRisk Factors: Failing to locate studs or misidentifying their location can lead to installing hardware into hollow drywall, which will not support a heavy mirror, causing it to fall.\\nSafety Measures: Read the stud finder's manual for proper use. Scan the wall multiple times to confirm stud locations. A common verification method is to tap the wall; a hollow sound indicates drywall, while a solid, dull thud indicates a stud.\\n\", additional_kwargs={}, response_metadata={}),\n",
       " HumanMessage(content='I am not confident about using the stud finder properly. Can you explain how to use it?', additional_kwargs={}, response_metadata={}),\n",
       " AIMessage(content=\"Absolutely, it's completely normal to feel unsure about using a new tool like a stud finder, especially when a heavy mirror is involved! I'm here to make sure you feel confident with every step.\\n\\nHere's a simple breakdown of how to use a stud finder properly:\\n\\n1.  **Turn it On and Calibrate:** Most stud finders have a power button. Once on, some models require a quick calibration. This usually involves placing it flat against the wall where you *know* there's no stud (e.g., in the middle of a wall section) and pressing a calibrate button until it beeps or lights up, indicating it's ready. This sets its baseline.\\n2.  **Place and Slide:** Place the stud finder flat against the wall at the approximate height where your mirror's hanging point will be. Slowly slide it horizontally across the wall in one continuous motion.\\n3.  **Look/Listen for Indicators:** As you slide, the stud finder will typically light up, beep, or display an arrow when it detects a stud. Many will indicate the *edge* of a stud first, and then the center.\\n4.  **Mark the Edges:** When the stud finder indicates a stud, make a light pencil mark on the wall. Continue sliding past the stud until the indicator turns off, then slide back to find the other edge and mark it.\\n5.  **Find the Center:** The stud's center will be approximately halfway between your two marks. It's a good practice to scan the area a few times from different directions to confirm the location.\\n\\nUsing a stud finder effectively will ensure you find the most secure spot for your heavy mirror. Don't hesitate to ask if you have any more questions about it!\", additional_kwargs={}, response_metadata={}),\n",
       " HumanMessage(content='Yeah!! I am done with this step and I am ready to hang the mirror now.', additional_kwargs={}, response_metadata={}),\n",
       " AIMessage(content='Step 3:Mark the Drilling Points\\nDescription: On the back of the mirror, pull the hanging wire up and tight, as if it were hanging. Use your tape measure to find the distance from the top of the mirror frame down to the peak of the taut wire. Now, go back to the wall and measure down this exact distance from the top-center mark you made in Step 1. This is your vertical hanging height. For stability with a heavy mirror, you will use two hooks. From your new vertical mark, measure outwards to the left and right to your marked stud locations (or about 6-8 inches apart if no studs are ideally placed). Use your level to ensure these two final drilling points are perfectly horizontal.\\nRisk Factors: Inaccurate measurements will result in a crooked mirror. If the two hook points are not level, the mirror will hang at an angle.\\nSafety Measures: Double-check all your measurements. Use your level to draw a faint, straight line between the two hook points to guarantee they are perfectly aligned before you drill.\\n', additional_kwargs={}, response_metadata={}),\n",
       " HumanMessage(content='I am a bit confused about the measurements. Can you help me with that?', additional_kwargs={}, response_metadata={}),\n",
       " AIMessage(content='Absolutely, it\\'s common for measurements to feel a bit tricky, especially when you want to get it just right! I\\'m happy to clarify Step 3 for you to make sure you\\'re confident before moving forward.\\n\\nStep 3 involves two main types of measurements to ensure your heavy mirror hangs securely and perfectly level:\\n\\n1.  **Finding the \"Drop\" Distance (Measurement on the Mirror):**\\n    *   **Purpose:** This tells you how far *down* from the very top edge of your mirror frame the actual hanging point (the taut wire) will be.\\n    *   **How to do it:**\\n        *   Hold your mirror or lay it face down.\\n        *   Take the hanging wire on the back and pull it upwards and tight, just as it would be if it were hanging on a hook.\\n        *   Using your tape measure, measure the distance from the *very top edge of the mirror\\'s frame* straight down to the *highest point of the taut wire* (the peak of the triangle the wire forms when pulled tight).\\n        *   Write this measurement down carefully. This is your \"drop\" distance.\\n\\n2.  **Marking the Wall for Your Two Hooks (Measurements on the Wall):**\\n    *   **Purpose:** To mark the precise vertical and horizontal spots where your two wall hooks/screws will go. For a heavy mirror like yours, using two points helps distribute the weight and provides more stability.\\n    *   **How to do it:**\\n        *   Go to the wall where you made the light pencil mark for the *top center of the mirror frame* (from Step 1).\\n        *   From this top-center mark, measure *down* the \"drop\" distance you just calculated from the mirror. Make a new light pencil mark at this point. This new mark represents the *vertical height* where the very top of your two wall hooks/screws will be.\\n        *   Now, for the *horizontal placement* of your two hooks: Since you\\'ve located studs, the safest and most secure method for a heavy mirror is to attach your hooks directly into two studs.\\n            *   Look at the stud marks you made in Step 2.\\n            *   From the *new vertical mark* you just made (your hanging height), measure horizontally to the *center of two adjacent studs* that fall within the general width of your mirror. Mark these two points with your pencil. These will be the exact spots for your hooks/screws.\\n            *   **Important:** Use your level to draw a faint, straight line between these two final marks to ensure they are perfectly horizontal. The mirror\\'s wire will rest across these two points.\\n\\nTake your time with each measurement, double-checking them as you go. You\\'ve got this! Let me know if any part still feels unclear.', additional_kwargs={}, response_metadata={}),\n",
       " HumanMessage(content=\"Got it and I'm done with the markings and the measurements.\", additional_kwargs={}, response_metadata={}),\n",
       " AIMessage(content=\"Step 4:Drill Holes and Install Hardware\\nDescription: Put on your safety glasses. If your marks are on studs, use a power drill with a bit slightly smaller than your screw's diameter to drill a pilot hole. Then, screw in a heavy-duty picture hook or screw rated for over 50 lbs, leaving it protruding about 1/4 inch. If you cannot use studs, you MUST use heavy-duty drywall anchors like toggle bolts. Drill a hole that matches the anchor's size requirements, insert the folded anchor, and tighten the screw until the anchor is secure against the back of the drywall, again leaving it out 1/4 inch.\\nRisk Factors: Drilling into unseen electrical wires or plumbing. Using the wrong hardware can lead to mirror failure. Wall damage from incorrect drilling.\\nSafety Measures: Always wear safety glasses when drilling. Be aware of nearby outlets or light switches, as wiring may be present. Never use nails or standard plastic anchors for a heavy mirror. Ensure the anchors or screws are rated for at least double the mirror's weight.\\n\", additional_kwargs={}, response_metadata={}),\n",
       " HumanMessage(content='I am not sure about the anchor type and its size to use for the wall. Can you help me with that?', additional_kwargs={}, response_metadata={}),\n",
       " AIMessage(content='Absolutely, it\\'s crucial to choose the right anchor type and size for a heavy mirror on drywall – that\\'s a smart question to ask! I\\'m here to ensure you select the most secure option.\\n\\nFor a mirror weighing over 25 lbs (11 kg) on drywall, you **must use heavy-duty drywall anchors**. Standard nails or small plastic anchors will not be sufficient and could lead to the mirror falling.\\n\\nHere are the most reliable types and how to think about sizing:\\n\\n1.  **Toggle Bolts (Butterfly Anchors):**\\n    *   **Description:** These are excellent for very heavy loads. They require a larger hole, but once inserted, a metal \"wing\" springs open behind the drywall, creating a very strong grip.\\n    *   **Sizing:** They come in various sizes (e.g., 1/8 inch, 3/16 inch, 1/4 inch). The size refers to the bolt diameter. **Always check the packaging for the weight rating.** For your heavy mirror, look for toggle bolts rated for at least 50 lbs (or even 75-100 lbs for extra peace of mind) *per anchor*. Since you\\'re using two hooks, you\\'ll need two anchors, and their combined rating should be well over the mirror\\'s weight.\\n\\n2.  **Molly Bolts (Sleeve Anchors):**\\n    *   **Description:** These are metal anchors that expand behind the drywall as you tighten a screw. They also provide a very secure hold for heavy items.\\n    *   **Sizing:** Similar to toggle bolts, they come in different diameters and lengths. Again, **the most important factor is the weight rating on the packaging.** Choose molly bolts rated for heavy loads (e.g., 50+ lbs per anchor).\\n\\n3.  **Heavy-Duty Self-Drilling Drywall Anchors (e.g., \"Toggler Snaptoggle\" or similar):**\\n    *   **Description:** Some newer, heavy-duty self-drilling anchors are designed for significant weight. They often have a large thread that screws into the drywall, and then a mechanism (like a toggle) expands behind the wall.\\n    *   **Sizing:** These will also clearly state their weight capacity on the package. Ensure you pick ones specifically labeled for \"heavy-duty\" or \"up to 75 lbs\" (or more) per anchor.\\n\\n**Key takeaway for sizing:**\\n*   **Always check the manufacturer\\'s weight rating on the anchor packaging.** Do not guess.\\n*   Choose anchors that are collectively rated for at least double the weight of your mirror to ensure maximum safety and stability.\\n*   The size of the drill bit you\\'ll need will be specified on the anchor\\'s packaging.\\n\\nIf you\\'re unable to drill into a stud, using one of these heavy-duty anchors is essential for the safety of your mirror and wall. Let me know if you have any more questions about them!', additional_kwargs={}, response_metadata={}),\n",
       " HumanMessage(content='I think I should use a heavy-duty self-drilling drywall anchor as suggested for the wall. Is that correct as per the conditions?', additional_kwargs={}, response_metadata={}),\n",
       " AIMessage(content=\"Yes, that's absolutely correct and a smart choice! Given that your mirror is heavy (over 25 lbs) and you're hanging it on drywall, a **heavy-duty self-drilling drywall anchor** is indeed a very suitable and secure option, especially if you're not able to drill directly into a wall stud at your desired location.\\n\\nThese types of anchors are specifically designed to provide strong support in drywall for heavier items. Just make sure to:\\n*   **Check the weight rating on the anchor's packaging** to ensure it can safely support at least double the weight of your mirror.\\n*   **Follow the manufacturer's instructions** for installation, including the correct drill bit size if needed.\\n\\nYou're on the right track to ensuring your mirror is hung safely and securely!\", additional_kwargs={}, response_metadata={}),\n",
       " HumanMessage(content='I have completed this step and ready for the next.', additional_kwargs={}, response_metadata={}),\n",
       " AIMessage(content='Step 5:Hang the Mirror with a Helper\\nDescription: This step requires two people. Put on your work gloves for a better grip. With your helper, each person should hold one side of the mirror. Lift it carefully, keeping your back straight and lifting with your legs. Tilt the top of the mirror towards the wall and carefully guide the hanging wire onto the two hooks you installed. Communicate with your helper to lower it slowly and evenly until you feel the wire is securely caught on both hooks.\\nRisk Factors: Dropping and breaking the mirror. Personal injury from lifting a heavy, awkward object. Scratching the wall or floor during placement.\\nSafety Measures: Never attempt to hang a heavy mirror alone. Wear work gloves to protect your hands and improve grip. Plan your path from the floor to the wall to avoid tripping hazards.\\n', additional_kwargs={}, response_metadata={}),\n",
       " HumanMessage(content='I am working alone and I am not sure how to hold the mirror while I am hanging it. Can you help me with that?', additional_kwargs={}, response_metadata={}),\n",
       " AIMessage(content=\"No worries at all! Hanging a heavy mirror by yourself can be done safely with a few smart adjustments, especially since you've already got your precise markings and heavy-duty anchors in place. You don't necessarily need a helper for this final step, though it always makes it easier.\\n\\nHere's how you can safely hang the heavy mirror by yourself:\\n\\n1.  **Create a Temporary Support Ledge:**\\n    *   Find a sturdy, stable object that you can place directly below where the bottom of your mirror will rest on the wall. This could be a small step stool, a stack of strong books, or a sturdy box.\\n    *   The top of this object should be just a few inches *below* the final resting height of the mirror's bottom edge. This will allow the mirror to lean against it, taking most of the weight off your arms while you align the hooks.\\n\\n2.  **Prepare the Mirror:**\\n    *   Put on your **work gloves** for a better grip and protection.\\n    *   Carefully lift the mirror. Instead of trying to lift it high, focus on getting the bottom edge to rest securely on your temporary support ledge.\\n\\n3.  **Lean and Align:**\\n    *   Once the bottom of the mirror is resting on the support, carefully tilt the top of the mirror towards the wall.\\n    *   With the majority of the mirror's weight supported from below, you can now use both hands to slowly and carefully guide the hanging wire onto the two hooks you installed.\\n    *   Take your time, making small adjustments until you feel the wire securely engage both hooks.\\n\\n4.  **Final Check:**\\n    *   Once the mirror is on the hooks, gently remove your temporary support.\\n    *   Step back and check that the mirror is level (you can use your level again if you wish) and sitting securely on both anchors.\\n\\nThis method allows you to manage the weight and precisely align the mirror without needing a second person. You've got this!\", additional_kwargs={}, response_metadata={}),\n",
       " HumanMessage(content='Yeah I am done with this step.', additional_kwargs={}, response_metadata={}),\n",
       " AIMessage(content=\"Step 6:Level, Secure, and Clean Up\\nDescription: Once the mirror is on the wall, place your level on the top edge to check if it's straight. If it's slightly off, gently shift the mirror side-to-side on the hooks until it's perfect. Gently press on the mirror's frame to ensure it is stable and does not wobble. Finally, use a cloth to wipe any fingerprints off the mirror and vacuum any dust created by drilling.\\nRisk Factors: The mirror may not be fully secure on the hooks and could fall later. Leaving the mirror crooked.\\nSafety Measures: Perform a gentle 'wobble test' to confirm the mirror is securely seated on the hooks. If it moves easily, take it down and inspect the hardware. Make only small, careful adjustments when leveling.\\n\", additional_kwargs={}, response_metadata={}),\n",
       " HumanMessage(content='Thank you for your help! I have completed the task successfully and it looks great.', additional_kwargs={}, response_metadata={})]"
      ]
     },
     "execution_count": 89,
     "metadata": {},
     "output_type": "execute_result"
    }
   ],
   "source": [
    "messages"
   ]
  },
  {
   "cell_type": "code",
   "execution_count": null,
   "id": "2f6e5692",
   "metadata": {},
   "outputs": [],
   "source": [
    "for msg in messages:\n",
    "    if isinstance(msg, HumanMessage):\n",
    "        print(f\"YOU : {msg.content}\")\n",
    "    else:\n",
    "        if \n",
    "        print(f\"ASSISTANT : {msg.content}\")\n",
    "print(\"End of conversation.\")"
   ]
  },
  {
   "cell_type": "code",
   "execution_count": null,
   "id": "cd5d1ae2",
   "metadata": {},
   "outputs": [
    {
     "name": "stdout",
     "output_type": "stream",
     "text": [
      "ASSISTANT : How can I assist you today?\n",
      "YOU : I want to hang a wall mirror in my living room.\n",
      "ASSISTANT : What problems are you running into with hanging the wall mirror?\n",
      "YOU : I'm trying to hang a wall mirror but I'm not sure how to do it properly.\n",
      "ASSISTANT : Describe it in more detail\n",
      "YOU : I don't want to scratch the walls or break the glass. It has two hooks for attachments.\n",
      "ASSISTANT : Do you have experience hanging a mirror?\n",
      "YOU : Yes, I have hang a small to medium-sized mirror before.\n",
      "ASSISTANT : Could you provide with a list of the tools and materials you have?\n",
      "YOU : I have a hammer, nails, and a level.\n",
      "ASSISTANT : Here are some questions to help me understand your task better:\n",
      "ASSISTANT : Q1: What type of wall are you hanging the mirror on?\n",
      "Options:\n",
      "Drywall\n",
      "Plaster\n",
      "Brick / Concrete\n",
      "I'm not sure\n",
      "\n",
      "YOU : Drywall\n",
      "ASSISTANT : Q2: What is the approximate weight of the mirror?\n",
      "Options:\n",
      "Light (under 10 lbs / 5 kg)\n",
      "Medium (10-25 lbs / 5-11 kg)\n",
      "Heavy (over 25 lbs / 11 kg)\n",
      "\n",
      "YOU : Heavy (over 25 lbs / 11 kg)\n",
      "ASSISTANT : Q3: What are the approximate dimensions (width and height) of the mirror?\n",
      "YOU : Height : 75 cm and Width : 50cm\n",
      "ASSISTANT : Q4: Are the two hooks on the back connected by a wire?\n",
      "Options:\n",
      "Yes, there is a wire between them\n",
      "No, they are separate hooks (e.g., D-rings)\n",
      "\n",
      "YOU : Yes, there is a wire between them\n",
      "ASSISTANT : Q5: Do you have a tape measure?\n",
      "Options:\n",
      "Yes\n",
      "No\n",
      "\n",
      "YOU : Yes\n",
      "ASSISTANT : Q6: Do you have a stud finder to locate the support beams in the wall?\n",
      "Options:\n",
      "Yes\n",
      "No\n",
      "\n",
      "YOU : No\n",
      "ASSISTANT : Q7: Is the mirror's frame made of a heavy material like wood or metal?\n",
      "Options:\n",
      "Yes, it's a heavy frame\n",
      "No, it's a light frame (e.g., plastic) or it's frameless\n",
      "\n",
      "YOU : Yes, it's a heavy frame\n",
      "ASSISTANT : Here are the tools and materials required for your task:\n",
      "ASSISTANT :\n",
      "\n",
      "Tool name : Stud Finder\n",
      "Tool description : Essential for locating wooden studs behind your drywall. Hanging a heavy mirror (over 25 lbs) directly into a stud provides the most secure attachment point, significantly reducing the risk of the mirror falling and damaging the wall or breaking.\n",
      "Link Title: Amazon Best Sellers: Best Stud Finders & Scanners\n",
      "URL: https://www.amazon.com/Best-Sellers-Stud-Finders-Scanners/zgbs/hi/553280\n",
      "Tool name : Power Drill\n",
      "Tool description : Required for drilling pilot holes if you locate a stud, or for installing heavy-duty drywall anchors (such as toggle bolts or molly bolts) if a stud is not available at your desired hanging location. Nails alone are not sufficient for a heavy mirror on drywall.\n",
      "Link Title: COMOWARE 20V Cordless Drill 2 Batteries - Amazon.com\n",
      "URL: https://www.amazon.com/COMOWARE-Cordless-Electric-Batteries-Variable/dp/B08YJTYDD4\n",
      "Tool name : Drill Bit Set\n",
      "Tool description : A set of various drill bits will ensure you have the correct size for pilot holes (if drilling into a stud) or for the specific heavy-duty drywall anchors you will need to use. The size will depend on the chosen anchor/screw.\n",
      "Link Title: Drill Bit Set - Amazon.com\n",
      "URL: https://www.amazon.com/drill-bit-set/s?k=drill+bit+set\n",
      "Tool name : Pencil\n",
      "Tool description : For accurately marking the desired height and width for your mirror's hanging point on the wall before drilling, ensuring precise placement.\n",
      "Link Title: Pencil - Amazon.com\n",
      "URL: https://www.amazon.com/pencil/s?k=pencil\n",
      "Tool name : Painter's Tape\n",
      "Tool description : Helpful for marking your measurements on the wall without leaving permanent marks, and can also be used to temporarily mark the mirror's hanging points to transfer measurements to the wall, especially useful for one-person installation.\n",
      "Link Title: Painters Tape - Amazon.com\n",
      "URL: https://www.amazon.com/painters-tape/s?k=painters+tape\n",
      "Tool name : Safety Glasses\n",
      "Tool description : Recommended for eye protection when drilling into walls, as dust and small debris can be generated during the process.\n",
      "Link Title: Safety Glasses - Amazon.com\n",
      "URL: https://www.amazon.com/safety-glasses/s?k=safety+glasses\n",
      "Tool name : Work Gloves\n",
      "Tool description : Provides a better grip when handling the heavy mirror and protects your hands from potential splinters from the mirror frame or minor abrasions during installation.\n",
      "Link Title: 12 Pack - SHOWA Atlas 370 Black Work Gloves - Large - Amazon.com\n",
      "URL: https://www.amazon.com/12-Pack-Showa-Atlas-Gloves/dp/B0012NVRS8\n"
     ]
    }
   ],
   "source": [
    "for msg in messages:\n",
    "    if isinstance(msg, AIMessage):\n",
    "        if \"Tool Name:\" in msg.content:\n",
    "            break\n",
    "        else:\n",
    "            print(f\"ASSISTANT : {msg.content}\")\n",
    "    elif isinstance(msg, HumanMessage):\n",
    "        print(f\"YOU : {msg.content}\")\n",
    "\n",
    "print(\"ASSISTANT :\\n\")\n",
    "\n",
    "for items in tools_suggestion.tools:\n",
    "    search_query=\"Can you provide me the purchase link of the \"+ items.tool_name+\" from Amazon?\"\n",
    "    results=search.invoke(search_query)\n",
    "    if len(results):\n",
    "        print(f\"Tool name : {items.tool_name}\\nTool description : {items.description}\\nLink Title: {results[0].get('title')}\\nURL: {results[0].get('url')}\\n\\n\")\n",
    "\n",
    "\n",
    "for msg in messages:\n",
    "    if isinstance(msg, HumanMessage):\n",
    "        print(f\"YOU : {msg.content}\")\n",
    "    else:\n",
    "        if isinstance(msg, AIMessage):\n",
    "            print(f\"ASSISTANT : {msg.content}\")"
   ]
  },
  {
   "cell_type": "code",
   "execution_count": 94,
   "id": "bd30826b",
   "metadata": {},
   "outputs": [],
   "source": [
    "with open(\"conversation.txt\", \"w\") as f:\n",
    "    for msg in messages:\n",
    "        if isinstance(msg, HumanMessage):\n",
    "            f.write(f\"YOU : {msg.content}\\n\")\n",
    "        else:\n",
    "            if isinstance(msg, AIMessage):\n",
    "                f.write(f\"ASSISTANT : {msg.content}\\n\")\n",
    "    f.write(\"End of conversation.\\n\")"
   ]
  },
  {
   "cell_type": "code",
   "execution_count": null,
   "id": "9693a25e",
   "metadata": {},
   "outputs": [],
   "source": []
  }
 ],
 "metadata": {
  "kernelspec": {
   "display_name": ".venv",
   "language": "python",
   "name": "python3"
  },
  "language_info": {
   "codemirror_mode": {
    "name": "ipython",
    "version": 3
   },
   "file_extension": ".py",
   "mimetype": "text/x-python",
   "name": "python",
   "nbconvert_exporter": "python",
   "pygments_lexer": "ipython3",
   "version": "3.10.11"
  }
 },
 "nbformat": 4,
 "nbformat_minor": 5
}
